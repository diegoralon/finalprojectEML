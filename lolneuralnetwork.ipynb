{
 "cells": [
  {
   "cell_type": "code",
   "execution_count": 1,
   "id": "568ba29d-bad8-4beb-9e3f-97a3a7d7f98f",
   "metadata": {},
   "outputs": [],
   "source": [
    "import pandas as pd \n",
    "import numpy as np \n",
    "import seaborn as sns\n",
    "import matplotlib.pyplot as plt \n",
    "from keras.models import Sequential\n",
    "from keras.layers import Dense\n",
    "from sklearn.model_selection import train_test_split\n",
    "from pandas import DataFrame\n",
    "import tensorflow as tf\n",
    "import warnings\n",
    "warnings.filterwarnings('ignore')"
   ]
  },
  {
   "cell_type": "code",
   "execution_count": 2,
   "id": "8473bc6e-c381-4191-938d-28b5abb7bc77",
   "metadata": {},
   "outputs": [],
   "source": [
    "master_ranked_games = pd.read_csv('Master_Ranked_Games.csv')"
   ]
  },
  {
   "cell_type": "code",
   "execution_count": 3,
   "id": "d4363ea3-7267-4553-9f43-c011086eac17",
   "metadata": {},
   "outputs": [
    {
     "data": {
      "text/html": [
       "<div>\n",
       "<style scoped>\n",
       "    .dataframe tbody tr th:only-of-type {\n",
       "        vertical-align: middle;\n",
       "    }\n",
       "\n",
       "    .dataframe tbody tr th {\n",
       "        vertical-align: top;\n",
       "    }\n",
       "\n",
       "    .dataframe thead th {\n",
       "        text-align: right;\n",
       "    }\n",
       "</style>\n",
       "<table border=\"1\" class=\"dataframe\">\n",
       "  <thead>\n",
       "    <tr style=\"text-align: right;\">\n",
       "      <th></th>\n",
       "      <th>gameId</th>\n",
       "      <th>gameDuraton</th>\n",
       "      <th>blueWins</th>\n",
       "      <th>blueFirstBlood</th>\n",
       "      <th>blueFirstTower</th>\n",
       "      <th>blueFirstBaron</th>\n",
       "      <th>blueFirstDragon</th>\n",
       "      <th>blueFirstInhibitor</th>\n",
       "      <th>blueDragonKills</th>\n",
       "      <th>blueBaronKills</th>\n",
       "      <th>...</th>\n",
       "      <th>redAssist</th>\n",
       "      <th>redChampionDamageDealt</th>\n",
       "      <th>redTotalGold</th>\n",
       "      <th>redTotalMinionKills</th>\n",
       "      <th>redTotalLevel</th>\n",
       "      <th>redAvgLevel</th>\n",
       "      <th>redJungleMinionKills</th>\n",
       "      <th>redKillingSpree</th>\n",
       "      <th>redTotalHeal</th>\n",
       "      <th>redObjectDamageDealt</th>\n",
       "    </tr>\n",
       "  </thead>\n",
       "  <tbody>\n",
       "    <tr>\n",
       "      <th>0</th>\n",
       "      <td>4227123625</td>\n",
       "      <td>1429</td>\n",
       "      <td>0</td>\n",
       "      <td>1</td>\n",
       "      <td>1</td>\n",
       "      <td>0</td>\n",
       "      <td>0</td>\n",
       "      <td>0</td>\n",
       "      <td>0</td>\n",
       "      <td>0</td>\n",
       "      <td>...</td>\n",
       "      <td>45</td>\n",
       "      <td>53831</td>\n",
       "      <td>41991</td>\n",
       "      <td>609</td>\n",
       "      <td>64</td>\n",
       "      <td>12.8</td>\n",
       "      <td>127</td>\n",
       "      <td>4</td>\n",
       "      <td>12916</td>\n",
       "      <td>26338</td>\n",
       "    </tr>\n",
       "    <tr>\n",
       "      <th>1</th>\n",
       "      <td>4219545724</td>\n",
       "      <td>1313</td>\n",
       "      <td>0</td>\n",
       "      <td>0</td>\n",
       "      <td>1</td>\n",
       "      <td>0</td>\n",
       "      <td>0</td>\n",
       "      <td>0</td>\n",
       "      <td>0</td>\n",
       "      <td>0</td>\n",
       "      <td>...</td>\n",
       "      <td>43</td>\n",
       "      <td>52924</td>\n",
       "      <td>39672</td>\n",
       "      <td>510</td>\n",
       "      <td>63</td>\n",
       "      <td>12.6</td>\n",
       "      <td>133</td>\n",
       "      <td>4</td>\n",
       "      <td>12252</td>\n",
       "      <td>29828</td>\n",
       "    </tr>\n",
       "    <tr>\n",
       "      <th>2</th>\n",
       "      <td>4219463634</td>\n",
       "      <td>1660</td>\n",
       "      <td>1</td>\n",
       "      <td>0</td>\n",
       "      <td>0</td>\n",
       "      <td>1</td>\n",
       "      <td>1</td>\n",
       "      <td>1</td>\n",
       "      <td>1</td>\n",
       "      <td>1</td>\n",
       "      <td>...</td>\n",
       "      <td>22</td>\n",
       "      <td>61745</td>\n",
       "      <td>46516</td>\n",
       "      <td>630</td>\n",
       "      <td>65</td>\n",
       "      <td>13.0</td>\n",
       "      <td>153</td>\n",
       "      <td>2</td>\n",
       "      <td>17005</td>\n",
       "      <td>37066</td>\n",
       "    </tr>\n",
       "    <tr>\n",
       "      <th>3</th>\n",
       "      <td>4205778093</td>\n",
       "      <td>984</td>\n",
       "      <td>1</td>\n",
       "      <td>1</td>\n",
       "      <td>1</td>\n",
       "      <td>0</td>\n",
       "      <td>1</td>\n",
       "      <td>0</td>\n",
       "      <td>2</td>\n",
       "      <td>0</td>\n",
       "      <td>...</td>\n",
       "      <td>5</td>\n",
       "      <td>25007</td>\n",
       "      <td>21444</td>\n",
       "      <td>304</td>\n",
       "      <td>41</td>\n",
       "      <td>8.2</td>\n",
       "      <td>51</td>\n",
       "      <td>1</td>\n",
       "      <td>10499</td>\n",
       "      <td>3085</td>\n",
       "    </tr>\n",
       "    <tr>\n",
       "      <th>4</th>\n",
       "      <td>4201063474</td>\n",
       "      <td>1437</td>\n",
       "      <td>0</td>\n",
       "      <td>1</td>\n",
       "      <td>1</td>\n",
       "      <td>0</td>\n",
       "      <td>1</td>\n",
       "      <td>0</td>\n",
       "      <td>2</td>\n",
       "      <td>0</td>\n",
       "      <td>...</td>\n",
       "      <td>39</td>\n",
       "      <td>71794</td>\n",
       "      <td>45798</td>\n",
       "      <td>565</td>\n",
       "      <td>68</td>\n",
       "      <td>13.6</td>\n",
       "      <td>150</td>\n",
       "      <td>7</td>\n",
       "      <td>47523</td>\n",
       "      <td>47150</td>\n",
       "    </tr>\n",
       "  </tbody>\n",
       "</table>\n",
       "<p>5 rows × 50 columns</p>\n",
       "</div>"
      ],
      "text/plain": [
       "       gameId  gameDuraton  blueWins  blueFirstBlood  blueFirstTower  \\\n",
       "0  4227123625         1429         0               1               1   \n",
       "1  4219545724         1313         0               0               1   \n",
       "2  4219463634         1660         1               0               0   \n",
       "3  4205778093          984         1               1               1   \n",
       "4  4201063474         1437         0               1               1   \n",
       "\n",
       "   blueFirstBaron  blueFirstDragon  blueFirstInhibitor  blueDragonKills  \\\n",
       "0               0                0                   0                0   \n",
       "1               0                0                   0                0   \n",
       "2               1                1                   1                1   \n",
       "3               0                1                   0                2   \n",
       "4               0                1                   0                2   \n",
       "\n",
       "   blueBaronKills  ...  redAssist  redChampionDamageDealt  redTotalGold  \\\n",
       "0               0  ...         45                   53831         41991   \n",
       "1               0  ...         43                   52924         39672   \n",
       "2               1  ...         22                   61745         46516   \n",
       "3               0  ...          5                   25007         21444   \n",
       "4               0  ...         39                   71794         45798   \n",
       "\n",
       "   redTotalMinionKills  redTotalLevel  redAvgLevel  redJungleMinionKills  \\\n",
       "0                  609             64         12.8                   127   \n",
       "1                  510             63         12.6                   133   \n",
       "2                  630             65         13.0                   153   \n",
       "3                  304             41          8.2                    51   \n",
       "4                  565             68         13.6                   150   \n",
       "\n",
       "   redKillingSpree  redTotalHeal  redObjectDamageDealt  \n",
       "0                4         12916                 26338  \n",
       "1                4         12252                 29828  \n",
       "2                2         17005                 37066  \n",
       "3                1         10499                  3085  \n",
       "4                7         47523                 47150  \n",
       "\n",
       "[5 rows x 50 columns]"
      ]
     },
     "execution_count": 3,
     "metadata": {},
     "output_type": "execute_result"
    }
   ],
   "source": [
    "master_ranked_games.head()"
   ]
  },
  {
   "cell_type": "markdown",
   "id": "b06c6410-e6e3-463b-9455-793251e58b43",
   "metadata": {},
   "source": [
    "# Armando una Redes Neuronales para comprobar importancia de factor Macro y Micro Game"
   ]
  },
  {
   "cell_type": "markdown",
   "id": "4125172c-1535-4b94-8a9a-b17ea80bf430",
   "metadata": {},
   "source": [
    "En el data set que tenemos anteriormente tenemos datos de 100,000 partidas de LoL en la categoría master games. Para esto queremos comprobar que nos ayuda más a ganar una partida si el Macro Game o el Micro Game. \n",
    "Macro game lo definimos como toma de objetivos generales del juego (torres, dragones, barones y farmeo) mientras que Micro game lo definimos como objetivos individuales (Asesinatos y Asistencias) \n",
    "Dentro de este proceso no contaremos las estadísticas que representan un acumulado como oro total o damage total ya que esto es un acumulado de los dos factores."
   ]
  },
  {
   "cell_type": "markdown",
   "id": "3ad7a4a5-0e8e-446e-a72a-487cee4c01a8",
   "metadata": {},
   "source": [
    "# Primer acecamiento al data set"
   ]
  },
  {
   "cell_type": "code",
   "execution_count": 4,
   "id": "2f4dddfc-186b-4a21-9b17-fdfe1c02c59a",
   "metadata": {},
   "outputs": [
    {
     "data": {
      "text/html": [
       "<div>\n",
       "<style scoped>\n",
       "    .dataframe tbody tr th:only-of-type {\n",
       "        vertical-align: middle;\n",
       "    }\n",
       "\n",
       "    .dataframe tbody tr th {\n",
       "        vertical-align: top;\n",
       "    }\n",
       "\n",
       "    .dataframe thead th {\n",
       "        text-align: right;\n",
       "    }\n",
       "</style>\n",
       "<table border=\"1\" class=\"dataframe\">\n",
       "  <thead>\n",
       "    <tr style=\"text-align: right;\">\n",
       "      <th></th>\n",
       "      <th>gameId</th>\n",
       "      <th>gameDuraton</th>\n",
       "      <th>blueWins</th>\n",
       "      <th>blueFirstBlood</th>\n",
       "      <th>blueFirstTower</th>\n",
       "      <th>blueFirstBaron</th>\n",
       "      <th>blueFirstDragon</th>\n",
       "      <th>blueFirstInhibitor</th>\n",
       "      <th>blueDragonKills</th>\n",
       "      <th>blueBaronKills</th>\n",
       "      <th>...</th>\n",
       "      <th>redAssist</th>\n",
       "      <th>redChampionDamageDealt</th>\n",
       "      <th>redTotalGold</th>\n",
       "      <th>redTotalMinionKills</th>\n",
       "      <th>redTotalLevel</th>\n",
       "      <th>redAvgLevel</th>\n",
       "      <th>redJungleMinionKills</th>\n",
       "      <th>redKillingSpree</th>\n",
       "      <th>redTotalHeal</th>\n",
       "      <th>redObjectDamageDealt</th>\n",
       "    </tr>\n",
       "  </thead>\n",
       "  <tbody>\n",
       "    <tr>\n",
       "      <th>count</th>\n",
       "      <td>1.071250e+05</td>\n",
       "      <td>107125.000000</td>\n",
       "      <td>107125.000000</td>\n",
       "      <td>107125.000000</td>\n",
       "      <td>107125.000000</td>\n",
       "      <td>107125.000000</td>\n",
       "      <td>107125.000000</td>\n",
       "      <td>107125.000000</td>\n",
       "      <td>107125.000000</td>\n",
       "      <td>107125.000000</td>\n",
       "      <td>...</td>\n",
       "      <td>107125.000000</td>\n",
       "      <td>107125.000000</td>\n",
       "      <td>107125.000000</td>\n",
       "      <td>107125.000000</td>\n",
       "      <td>107125.000000</td>\n",
       "      <td>107125.000000</td>\n",
       "      <td>107125.000000</td>\n",
       "      <td>107125.000000</td>\n",
       "      <td>107125.000000</td>\n",
       "      <td>107125.000000</td>\n",
       "    </tr>\n",
       "    <tr>\n",
       "      <th>mean</th>\n",
       "      <td>4.159074e+09</td>\n",
       "      <td>1432.977914</td>\n",
       "      <td>0.495132</td>\n",
       "      <td>0.507025</td>\n",
       "      <td>0.513410</td>\n",
       "      <td>0.236229</td>\n",
       "      <td>0.408047</td>\n",
       "      <td>0.387715</td>\n",
       "      <td>1.359356</td>\n",
       "      <td>0.297018</td>\n",
       "      <td>...</td>\n",
       "      <td>39.807365</td>\n",
       "      <td>68789.821620</td>\n",
       "      <td>47875.980285</td>\n",
       "      <td>501.132966</td>\n",
       "      <td>64.695561</td>\n",
       "      <td>12.939112</td>\n",
       "      <td>125.359683</td>\n",
       "      <td>5.688831</td>\n",
       "      <td>24547.786763</td>\n",
       "      <td>36884.671888</td>\n",
       "    </tr>\n",
       "    <tr>\n",
       "      <th>std</th>\n",
       "      <td>1.029108e+08</td>\n",
       "      <td>436.506952</td>\n",
       "      <td>0.499979</td>\n",
       "      <td>0.499953</td>\n",
       "      <td>0.499822</td>\n",
       "      <td>0.424766</td>\n",
       "      <td>0.491474</td>\n",
       "      <td>0.487231</td>\n",
       "      <td>1.256974</td>\n",
       "      <td>0.535069</td>\n",
       "      <td>...</td>\n",
       "      <td>28.805782</td>\n",
       "      <td>37648.964189</td>\n",
       "      <td>16455.077811</td>\n",
       "      <td>180.010409</td>\n",
       "      <td>15.166821</td>\n",
       "      <td>3.033364</td>\n",
       "      <td>66.746287</td>\n",
       "      <td>3.640699</td>\n",
       "      <td>15510.255865</td>\n",
       "      <td>27034.549770</td>\n",
       "    </tr>\n",
       "    <tr>\n",
       "      <th>min</th>\n",
       "      <td>3.163679e+09</td>\n",
       "      <td>190.000000</td>\n",
       "      <td>0.000000</td>\n",
       "      <td>0.000000</td>\n",
       "      <td>0.000000</td>\n",
       "      <td>0.000000</td>\n",
       "      <td>0.000000</td>\n",
       "      <td>0.000000</td>\n",
       "      <td>0.000000</td>\n",
       "      <td>0.000000</td>\n",
       "      <td>...</td>\n",
       "      <td>0.000000</td>\n",
       "      <td>0.000000</td>\n",
       "      <td>0.000000</td>\n",
       "      <td>0.000000</td>\n",
       "      <td>0.000000</td>\n",
       "      <td>0.000000</td>\n",
       "      <td>0.000000</td>\n",
       "      <td>0.000000</td>\n",
       "      <td>0.000000</td>\n",
       "      <td>0.000000</td>\n",
       "    </tr>\n",
       "    <tr>\n",
       "      <th>25%</th>\n",
       "      <td>4.129344e+09</td>\n",
       "      <td>1121.000000</td>\n",
       "      <td>0.000000</td>\n",
       "      <td>0.000000</td>\n",
       "      <td>0.000000</td>\n",
       "      <td>0.000000</td>\n",
       "      <td>0.000000</td>\n",
       "      <td>0.000000</td>\n",
       "      <td>0.000000</td>\n",
       "      <td>0.000000</td>\n",
       "      <td>...</td>\n",
       "      <td>19.000000</td>\n",
       "      <td>40494.000000</td>\n",
       "      <td>36127.000000</td>\n",
       "      <td>382.000000</td>\n",
       "      <td>55.000000</td>\n",
       "      <td>11.000000</td>\n",
       "      <td>84.000000</td>\n",
       "      <td>3.000000</td>\n",
       "      <td>13297.000000</td>\n",
       "      <td>12583.000000</td>\n",
       "    </tr>\n",
       "    <tr>\n",
       "      <th>50%</th>\n",
       "      <td>4.189629e+09</td>\n",
       "      <td>1420.000000</td>\n",
       "      <td>0.000000</td>\n",
       "      <td>1.000000</td>\n",
       "      <td>1.000000</td>\n",
       "      <td>0.000000</td>\n",
       "      <td>0.000000</td>\n",
       "      <td>0.000000</td>\n",
       "      <td>1.000000</td>\n",
       "      <td>0.000000</td>\n",
       "      <td>...</td>\n",
       "      <td>35.000000</td>\n",
       "      <td>63885.000000</td>\n",
       "      <td>47955.000000</td>\n",
       "      <td>517.000000</td>\n",
       "      <td>66.000000</td>\n",
       "      <td>13.200000</td>\n",
       "      <td>128.000000</td>\n",
       "      <td>5.000000</td>\n",
       "      <td>21455.000000</td>\n",
       "      <td>32486.000000</td>\n",
       "    </tr>\n",
       "    <tr>\n",
       "      <th>75%</th>\n",
       "      <td>4.222893e+09</td>\n",
       "      <td>1735.000000</td>\n",
       "      <td>1.000000</td>\n",
       "      <td>1.000000</td>\n",
       "      <td>1.000000</td>\n",
       "      <td>0.000000</td>\n",
       "      <td>1.000000</td>\n",
       "      <td>1.000000</td>\n",
       "      <td>2.000000</td>\n",
       "      <td>1.000000</td>\n",
       "      <td>...</td>\n",
       "      <td>53.000000</td>\n",
       "      <td>90554.000000</td>\n",
       "      <td>59133.000000</td>\n",
       "      <td>627.000000</td>\n",
       "      <td>75.000000</td>\n",
       "      <td>15.000000</td>\n",
       "      <td>171.000000</td>\n",
       "      <td>8.000000</td>\n",
       "      <td>32367.000000</td>\n",
       "      <td>57346.000000</td>\n",
       "    </tr>\n",
       "    <tr>\n",
       "      <th>max</th>\n",
       "      <td>4.257322e+09</td>\n",
       "      <td>3758.000000</td>\n",
       "      <td>1.000000</td>\n",
       "      <td>1.000000</td>\n",
       "      <td>1.000000</td>\n",
       "      <td>1.000000</td>\n",
       "      <td>1.000000</td>\n",
       "      <td>1.000000</td>\n",
       "      <td>7.000000</td>\n",
       "      <td>4.000000</td>\n",
       "      <td>...</td>\n",
       "      <td>225.000000</td>\n",
       "      <td>341957.000000</td>\n",
       "      <td>141692.000000</td>\n",
       "      <td>1338.000000</td>\n",
       "      <td>145.000000</td>\n",
       "      <td>29.000000</td>\n",
       "      <td>488.000000</td>\n",
       "      <td>29.000000</td>\n",
       "      <td>188817.000000</td>\n",
       "      <td>191193.000000</td>\n",
       "    </tr>\n",
       "  </tbody>\n",
       "</table>\n",
       "<p>8 rows × 50 columns</p>\n",
       "</div>"
      ],
      "text/plain": [
       "             gameId    gameDuraton       blueWins  blueFirstBlood  \\\n",
       "count  1.071250e+05  107125.000000  107125.000000   107125.000000   \n",
       "mean   4.159074e+09    1432.977914       0.495132        0.507025   \n",
       "std    1.029108e+08     436.506952       0.499979        0.499953   \n",
       "min    3.163679e+09     190.000000       0.000000        0.000000   \n",
       "25%    4.129344e+09    1121.000000       0.000000        0.000000   \n",
       "50%    4.189629e+09    1420.000000       0.000000        1.000000   \n",
       "75%    4.222893e+09    1735.000000       1.000000        1.000000   \n",
       "max    4.257322e+09    3758.000000       1.000000        1.000000   \n",
       "\n",
       "       blueFirstTower  blueFirstBaron  blueFirstDragon  blueFirstInhibitor  \\\n",
       "count   107125.000000   107125.000000    107125.000000       107125.000000   \n",
       "mean         0.513410        0.236229         0.408047            0.387715   \n",
       "std          0.499822        0.424766         0.491474            0.487231   \n",
       "min          0.000000        0.000000         0.000000            0.000000   \n",
       "25%          0.000000        0.000000         0.000000            0.000000   \n",
       "50%          1.000000        0.000000         0.000000            0.000000   \n",
       "75%          1.000000        0.000000         1.000000            1.000000   \n",
       "max          1.000000        1.000000         1.000000            1.000000   \n",
       "\n",
       "       blueDragonKills  blueBaronKills  ...      redAssist  \\\n",
       "count    107125.000000   107125.000000  ...  107125.000000   \n",
       "mean          1.359356        0.297018  ...      39.807365   \n",
       "std           1.256974        0.535069  ...      28.805782   \n",
       "min           0.000000        0.000000  ...       0.000000   \n",
       "25%           0.000000        0.000000  ...      19.000000   \n",
       "50%           1.000000        0.000000  ...      35.000000   \n",
       "75%           2.000000        1.000000  ...      53.000000   \n",
       "max           7.000000        4.000000  ...     225.000000   \n",
       "\n",
       "       redChampionDamageDealt   redTotalGold  redTotalMinionKills  \\\n",
       "count           107125.000000  107125.000000        107125.000000   \n",
       "mean             68789.821620   47875.980285           501.132966   \n",
       "std              37648.964189   16455.077811           180.010409   \n",
       "min                  0.000000       0.000000             0.000000   \n",
       "25%              40494.000000   36127.000000           382.000000   \n",
       "50%              63885.000000   47955.000000           517.000000   \n",
       "75%              90554.000000   59133.000000           627.000000   \n",
       "max             341957.000000  141692.000000          1338.000000   \n",
       "\n",
       "       redTotalLevel    redAvgLevel  redJungleMinionKills  redKillingSpree  \\\n",
       "count  107125.000000  107125.000000         107125.000000    107125.000000   \n",
       "mean       64.695561      12.939112            125.359683         5.688831   \n",
       "std        15.166821       3.033364             66.746287         3.640699   \n",
       "min         0.000000       0.000000              0.000000         0.000000   \n",
       "25%        55.000000      11.000000             84.000000         3.000000   \n",
       "50%        66.000000      13.200000            128.000000         5.000000   \n",
       "75%        75.000000      15.000000            171.000000         8.000000   \n",
       "max       145.000000      29.000000            488.000000        29.000000   \n",
       "\n",
       "        redTotalHeal  redObjectDamageDealt  \n",
       "count  107125.000000         107125.000000  \n",
       "mean    24547.786763          36884.671888  \n",
       "std     15510.255865          27034.549770  \n",
       "min         0.000000              0.000000  \n",
       "25%     13297.000000          12583.000000  \n",
       "50%     21455.000000          32486.000000  \n",
       "75%     32367.000000          57346.000000  \n",
       "max    188817.000000         191193.000000  \n",
       "\n",
       "[8 rows x 50 columns]"
      ]
     },
     "execution_count": 4,
     "metadata": {},
     "output_type": "execute_result"
    }
   ],
   "source": [
    "master_ranked_games.describe()"
   ]
  },
  {
   "cell_type": "markdown",
   "id": "9aa38bf4-c99c-49a3-9660-1d2cde9b70e0",
   "metadata": {},
   "source": [
    "Haciendo un pequeño describe para obtener estadísticas básicas vemos que GameID no nos sirve para nada más que como identificador. Ahora en GameDuraton es la duración de las partidas en segundos. En LoL como en todos los jeugos online y multiplayer existen los AFK'S. Estos son los jugadores que entran a la partida y por cualquiera razón no participan en la misma. Por lo cual existe la opción de rendirse sin ninguna penalización. Arriba del minuto 15 (900 segundos) ya existe la opción de rendirse por no perder en el tiempo en una partida que ya está perdida o solo por estar desconforme con el redimiento del equipo "
   ]
  },
  {
   "cell_type": "code",
   "execution_count": 5,
   "id": "628bf0d6-c0aa-45cc-96f7-b78db5685e12",
   "metadata": {},
   "outputs": [
    {
     "data": {
      "text/plain": [
       "(107125, 50)"
      ]
     },
     "execution_count": 5,
     "metadata": {},
     "output_type": "execute_result"
    }
   ],
   "source": [
    "master_ranked_games.shape"
   ]
  },
  {
   "cell_type": "markdown",
   "id": "1b61f0ae-2698-4dbc-aacd-fc55afe34b4e",
   "metadata": {},
   "source": [
    "Este es el numéro de observaciones y de columnas que tenemos por lo tanto vamos a seguir realizando el filtro y "
   ]
  },
  {
   "cell_type": "markdown",
   "id": "03fb9cb8-9917-4494-a782-ea7aa9605236",
   "metadata": {},
   "source": [
    "# Primera Adaptación (Partidas Arriba de 15 min)"
   ]
  },
  {
   "cell_type": "code",
   "execution_count": 6,
   "id": "1d4f5c1f-f918-4f28-a01e-825c40dd7a68",
   "metadata": {},
   "outputs": [],
   "source": [
    "master_ranked_games_playes = master_ranked_games.query('gameDuraton >= 900')"
   ]
  },
  {
   "cell_type": "code",
   "execution_count": 7,
   "id": "925bb659-fcd9-47e3-8012-c2957bbb6871",
   "metadata": {},
   "outputs": [
    {
     "data": {
      "text/html": [
       "<div>\n",
       "<style scoped>\n",
       "    .dataframe tbody tr th:only-of-type {\n",
       "        vertical-align: middle;\n",
       "    }\n",
       "\n",
       "    .dataframe tbody tr th {\n",
       "        vertical-align: top;\n",
       "    }\n",
       "\n",
       "    .dataframe thead th {\n",
       "        text-align: right;\n",
       "    }\n",
       "</style>\n",
       "<table border=\"1\" class=\"dataframe\">\n",
       "  <thead>\n",
       "    <tr style=\"text-align: right;\">\n",
       "      <th></th>\n",
       "      <th>gameId</th>\n",
       "      <th>gameDuraton</th>\n",
       "      <th>blueWins</th>\n",
       "      <th>blueFirstBlood</th>\n",
       "      <th>blueFirstTower</th>\n",
       "      <th>blueFirstBaron</th>\n",
       "      <th>blueFirstDragon</th>\n",
       "      <th>blueFirstInhibitor</th>\n",
       "      <th>blueDragonKills</th>\n",
       "      <th>blueBaronKills</th>\n",
       "      <th>...</th>\n",
       "      <th>redAssist</th>\n",
       "      <th>redChampionDamageDealt</th>\n",
       "      <th>redTotalGold</th>\n",
       "      <th>redTotalMinionKills</th>\n",
       "      <th>redTotalLevel</th>\n",
       "      <th>redAvgLevel</th>\n",
       "      <th>redJungleMinionKills</th>\n",
       "      <th>redKillingSpree</th>\n",
       "      <th>redTotalHeal</th>\n",
       "      <th>redObjectDamageDealt</th>\n",
       "    </tr>\n",
       "  </thead>\n",
       "  <tbody>\n",
       "    <tr>\n",
       "      <th>count</th>\n",
       "      <td>9.894700e+04</td>\n",
       "      <td>98947.000000</td>\n",
       "      <td>98947.000000</td>\n",
       "      <td>98947.000000</td>\n",
       "      <td>98947.000000</td>\n",
       "      <td>98947.000000</td>\n",
       "      <td>98947.00000</td>\n",
       "      <td>98947.000000</td>\n",
       "      <td>98947.000000</td>\n",
       "      <td>98947.000000</td>\n",
       "      <td>...</td>\n",
       "      <td>98947.000000</td>\n",
       "      <td>98947.000000</td>\n",
       "      <td>98947.000000</td>\n",
       "      <td>98947.000000</td>\n",
       "      <td>98947.000000</td>\n",
       "      <td>98947.000000</td>\n",
       "      <td>98947.000000</td>\n",
       "      <td>98947.000000</td>\n",
       "      <td>98947.000000</td>\n",
       "      <td>98947.000000</td>\n",
       "    </tr>\n",
       "    <tr>\n",
       "      <th>mean</th>\n",
       "      <td>4.159087e+09</td>\n",
       "      <td>1496.787209</td>\n",
       "      <td>0.493729</td>\n",
       "      <td>0.507686</td>\n",
       "      <td>0.519753</td>\n",
       "      <td>0.255228</td>\n",
       "      <td>0.42263</td>\n",
       "      <td>0.387510</td>\n",
       "      <td>1.447108</td>\n",
       "      <td>0.321041</td>\n",
       "      <td>...</td>\n",
       "      <td>41.225161</td>\n",
       "      <td>72211.149858</td>\n",
       "      <td>49700.881017</td>\n",
       "      <td>527.691006</td>\n",
       "      <td>66.711492</td>\n",
       "      <td>13.342298</td>\n",
       "      <td>132.998787</td>\n",
       "      <td>5.890285</td>\n",
       "      <td>25948.999303</td>\n",
       "      <td>38973.659767</td>\n",
       "    </tr>\n",
       "    <tr>\n",
       "      <th>std</th>\n",
       "      <td>1.025309e+08</td>\n",
       "      <td>385.802500</td>\n",
       "      <td>0.499963</td>\n",
       "      <td>0.499943</td>\n",
       "      <td>0.499612</td>\n",
       "      <td>0.435991</td>\n",
       "      <td>0.49398</td>\n",
       "      <td>0.487184</td>\n",
       "      <td>1.258320</td>\n",
       "      <td>0.549436</td>\n",
       "      <td>...</td>\n",
       "      <td>28.329026</td>\n",
       "      <td>36449.786586</td>\n",
       "      <td>15154.932182</td>\n",
       "      <td>158.023930</td>\n",
       "      <td>12.921170</td>\n",
       "      <td>2.584234</td>\n",
       "      <td>63.129798</td>\n",
       "      <td>3.565675</td>\n",
       "      <td>15203.565740</td>\n",
       "      <td>26782.871165</td>\n",
       "    </tr>\n",
       "    <tr>\n",
       "      <th>min</th>\n",
       "      <td>3.163679e+09</td>\n",
       "      <td>900.000000</td>\n",
       "      <td>0.000000</td>\n",
       "      <td>0.000000</td>\n",
       "      <td>0.000000</td>\n",
       "      <td>0.000000</td>\n",
       "      <td>0.00000</td>\n",
       "      <td>0.000000</td>\n",
       "      <td>0.000000</td>\n",
       "      <td>0.000000</td>\n",
       "      <td>...</td>\n",
       "      <td>0.000000</td>\n",
       "      <td>7793.000000</td>\n",
       "      <td>12607.000000</td>\n",
       "      <td>25.000000</td>\n",
       "      <td>25.000000</td>\n",
       "      <td>5.000000</td>\n",
       "      <td>0.000000</td>\n",
       "      <td>0.000000</td>\n",
       "      <td>177.000000</td>\n",
       "      <td>0.000000</td>\n",
       "    </tr>\n",
       "    <tr>\n",
       "      <th>25%</th>\n",
       "      <td>4.129516e+09</td>\n",
       "      <td>1207.000000</td>\n",
       "      <td>0.000000</td>\n",
       "      <td>0.000000</td>\n",
       "      <td>0.000000</td>\n",
       "      <td>0.000000</td>\n",
       "      <td>0.00000</td>\n",
       "      <td>0.000000</td>\n",
       "      <td>0.000000</td>\n",
       "      <td>0.000000</td>\n",
       "      <td>...</td>\n",
       "      <td>21.000000</td>\n",
       "      <td>44171.000000</td>\n",
       "      <td>38238.000000</td>\n",
       "      <td>419.000000</td>\n",
       "      <td>57.000000</td>\n",
       "      <td>11.400000</td>\n",
       "      <td>94.000000</td>\n",
       "      <td>3.000000</td>\n",
       "      <td>14836.000000</td>\n",
       "      <td>15129.000000</td>\n",
       "    </tr>\n",
       "    <tr>\n",
       "      <th>50%</th>\n",
       "      <td>4.189360e+09</td>\n",
       "      <td>1466.000000</td>\n",
       "      <td>0.000000</td>\n",
       "      <td>1.000000</td>\n",
       "      <td>1.000000</td>\n",
       "      <td>0.000000</td>\n",
       "      <td>0.00000</td>\n",
       "      <td>0.000000</td>\n",
       "      <td>1.000000</td>\n",
       "      <td>0.000000</td>\n",
       "      <td>...</td>\n",
       "      <td>36.000000</td>\n",
       "      <td>66800.000000</td>\n",
       "      <td>49415.000000</td>\n",
       "      <td>533.000000</td>\n",
       "      <td>67.000000</td>\n",
       "      <td>13.400000</td>\n",
       "      <td>134.000000</td>\n",
       "      <td>5.000000</td>\n",
       "      <td>22755.000000</td>\n",
       "      <td>35513.000000</td>\n",
       "    </tr>\n",
       "    <tr>\n",
       "      <th>75%</th>\n",
       "      <td>4.222728e+09</td>\n",
       "      <td>1762.000000</td>\n",
       "      <td>1.000000</td>\n",
       "      <td>1.000000</td>\n",
       "      <td>1.000000</td>\n",
       "      <td>1.000000</td>\n",
       "      <td>1.00000</td>\n",
       "      <td>1.000000</td>\n",
       "      <td>2.000000</td>\n",
       "      <td>1.000000</td>\n",
       "      <td>...</td>\n",
       "      <td>54.000000</td>\n",
       "      <td>93025.000000</td>\n",
       "      <td>59988.000000</td>\n",
       "      <td>636.000000</td>\n",
       "      <td>76.000000</td>\n",
       "      <td>15.200000</td>\n",
       "      <td>175.000000</td>\n",
       "      <td>8.000000</td>\n",
       "      <td>33455.000000</td>\n",
       "      <td>59344.000000</td>\n",
       "    </tr>\n",
       "    <tr>\n",
       "      <th>max</th>\n",
       "      <td>4.257322e+09</td>\n",
       "      <td>3758.000000</td>\n",
       "      <td>1.000000</td>\n",
       "      <td>1.000000</td>\n",
       "      <td>1.000000</td>\n",
       "      <td>1.000000</td>\n",
       "      <td>1.00000</td>\n",
       "      <td>1.000000</td>\n",
       "      <td>7.000000</td>\n",
       "      <td>4.000000</td>\n",
       "      <td>...</td>\n",
       "      <td>225.000000</td>\n",
       "      <td>341957.000000</td>\n",
       "      <td>141692.000000</td>\n",
       "      <td>1338.000000</td>\n",
       "      <td>145.000000</td>\n",
       "      <td>29.000000</td>\n",
       "      <td>488.000000</td>\n",
       "      <td>29.000000</td>\n",
       "      <td>188817.000000</td>\n",
       "      <td>191193.000000</td>\n",
       "    </tr>\n",
       "  </tbody>\n",
       "</table>\n",
       "<p>8 rows × 50 columns</p>\n",
       "</div>"
      ],
      "text/plain": [
       "             gameId   gameDuraton      blueWins  blueFirstBlood  \\\n",
       "count  9.894700e+04  98947.000000  98947.000000    98947.000000   \n",
       "mean   4.159087e+09   1496.787209      0.493729        0.507686   \n",
       "std    1.025309e+08    385.802500      0.499963        0.499943   \n",
       "min    3.163679e+09    900.000000      0.000000        0.000000   \n",
       "25%    4.129516e+09   1207.000000      0.000000        0.000000   \n",
       "50%    4.189360e+09   1466.000000      0.000000        1.000000   \n",
       "75%    4.222728e+09   1762.000000      1.000000        1.000000   \n",
       "max    4.257322e+09   3758.000000      1.000000        1.000000   \n",
       "\n",
       "       blueFirstTower  blueFirstBaron  blueFirstDragon  blueFirstInhibitor  \\\n",
       "count    98947.000000    98947.000000      98947.00000        98947.000000   \n",
       "mean         0.519753        0.255228          0.42263            0.387510   \n",
       "std          0.499612        0.435991          0.49398            0.487184   \n",
       "min          0.000000        0.000000          0.00000            0.000000   \n",
       "25%          0.000000        0.000000          0.00000            0.000000   \n",
       "50%          1.000000        0.000000          0.00000            0.000000   \n",
       "75%          1.000000        1.000000          1.00000            1.000000   \n",
       "max          1.000000        1.000000          1.00000            1.000000   \n",
       "\n",
       "       blueDragonKills  blueBaronKills  ...     redAssist  \\\n",
       "count     98947.000000    98947.000000  ...  98947.000000   \n",
       "mean          1.447108        0.321041  ...     41.225161   \n",
       "std           1.258320        0.549436  ...     28.329026   \n",
       "min           0.000000        0.000000  ...      0.000000   \n",
       "25%           0.000000        0.000000  ...     21.000000   \n",
       "50%           1.000000        0.000000  ...     36.000000   \n",
       "75%           2.000000        1.000000  ...     54.000000   \n",
       "max           7.000000        4.000000  ...    225.000000   \n",
       "\n",
       "       redChampionDamageDealt   redTotalGold  redTotalMinionKills  \\\n",
       "count            98947.000000   98947.000000         98947.000000   \n",
       "mean             72211.149858   49700.881017           527.691006   \n",
       "std              36449.786586   15154.932182           158.023930   \n",
       "min               7793.000000   12607.000000            25.000000   \n",
       "25%              44171.000000   38238.000000           419.000000   \n",
       "50%              66800.000000   49415.000000           533.000000   \n",
       "75%              93025.000000   59988.000000           636.000000   \n",
       "max             341957.000000  141692.000000          1338.000000   \n",
       "\n",
       "       redTotalLevel   redAvgLevel  redJungleMinionKills  redKillingSpree  \\\n",
       "count   98947.000000  98947.000000          98947.000000     98947.000000   \n",
       "mean       66.711492     13.342298            132.998787         5.890285   \n",
       "std        12.921170      2.584234             63.129798         3.565675   \n",
       "min        25.000000      5.000000              0.000000         0.000000   \n",
       "25%        57.000000     11.400000             94.000000         3.000000   \n",
       "50%        67.000000     13.400000            134.000000         5.000000   \n",
       "75%        76.000000     15.200000            175.000000         8.000000   \n",
       "max       145.000000     29.000000            488.000000        29.000000   \n",
       "\n",
       "        redTotalHeal  redObjectDamageDealt  \n",
       "count   98947.000000          98947.000000  \n",
       "mean    25948.999303          38973.659767  \n",
       "std     15203.565740          26782.871165  \n",
       "min       177.000000              0.000000  \n",
       "25%     14836.000000          15129.000000  \n",
       "50%     22755.000000          35513.000000  \n",
       "75%     33455.000000          59344.000000  \n",
       "max    188817.000000         191193.000000  \n",
       "\n",
       "[8 rows x 50 columns]"
      ]
     },
     "execution_count": 7,
     "metadata": {},
     "output_type": "execute_result"
    }
   ],
   "source": [
    "master_ranked_games_playes.describe()"
   ]
  },
  {
   "cell_type": "markdown",
   "id": "de220a93-9309-42e0-bf03-6dadd196828c",
   "metadata": {},
   "source": [
    "Como podemos ver ya logramos que nuestras duraciones de las partidas sean mayores a 15 minutos (900 segundos) por lo cual considero que ya podemos hacer un análisis sobre este tiempo de partidas"
   ]
  },
  {
   "cell_type": "code",
   "execution_count": 8,
   "id": "70f665e6-0a26-4c95-8b8b-d262d2b8ad97",
   "metadata": {},
   "outputs": [
    {
     "data": {
      "text/plain": [
       "(98947, 50)"
      ]
     },
     "execution_count": 8,
     "metadata": {},
     "output_type": "execute_result"
    }
   ],
   "source": [
    "master_ranked_games_playes.shape"
   ]
  },
  {
   "cell_type": "code",
   "execution_count": 9,
   "id": "bcd77a10-b392-4481-84cb-fbed0b77f84f",
   "metadata": {},
   "outputs": [],
   "source": [
    "obs_perdidas = 107125 - 98947"
   ]
  },
  {
   "cell_type": "code",
   "execution_count": 10,
   "id": "4c4bd886-3c85-4b87-946f-ed4e84d1422f",
   "metadata": {},
   "outputs": [
    {
     "name": "stdout",
     "output_type": "stream",
     "text": [
      "Observaciones Perdidas: 8178\n"
     ]
    }
   ],
   "source": [
    "print('Observaciones Perdidas:', obs_perdidas)"
   ]
  },
  {
   "cell_type": "markdown",
   "id": "309c7d46-38c3-4d44-9fdb-efb7897c0d8a",
   "metadata": {},
   "source": [
    "Haciendo este filtro perdimos 8179 observaciones lo cual es bastante poco, considerando que todavia contamos con 98947 observaciones para nuestro proceso"
   ]
  },
  {
   "cell_type": "markdown",
   "id": "42f662bd-6055-4409-bf64-2139a628b6f3",
   "metadata": {},
   "source": [
    "# Creando Data sets a utilizar (Micro y Macro)"
   ]
  },
  {
   "cell_type": "markdown",
   "id": "a08b708e-69b1-43ee-a0be-a69a013c1b81",
   "metadata": {},
   "source": [
    "## Micro Data Set"
   ]
  },
  {
   "cell_type": "code",
   "execution_count": 11,
   "id": "7c0d9fe9-6c81-4c46-8be0-ba4e0289e9fd",
   "metadata": {},
   "outputs": [
    {
     "data": {
      "text/plain": [
       "Index(['gameId', 'gameDuraton', 'blueWins', 'blueFirstBlood', 'blueFirstTower',\n",
       "       'blueFirstBaron', 'blueFirstDragon', 'blueFirstInhibitor',\n",
       "       'blueDragonKills', 'blueBaronKills', 'blueTowerKills',\n",
       "       'blueInhibitorKills', 'blueWardPlaced', 'blueWardkills', 'blueKills',\n",
       "       'blueDeath', 'blueAssist', 'blueChampionDamageDealt', 'blueTotalGold',\n",
       "       'blueTotalMinionKills', 'blueTotalLevel', 'blueAvgLevel',\n",
       "       'blueJungleMinionKills', 'blueKillingSpree', 'blueTotalHeal',\n",
       "       'blueObjectDamageDealt', 'redWins', 'redFirstBlood', 'redFirstTower',\n",
       "       'redFirstBaron', 'redFirstDragon', 'redFirstInhibitor',\n",
       "       'redDragonKills', 'redBaronKills', 'redTowerKills', 'redInhibitorKills',\n",
       "       'redWardPlaced', 'redWardkills', 'redKills', 'redDeath', 'redAssist',\n",
       "       'redChampionDamageDealt', 'redTotalGold', 'redTotalMinionKills',\n",
       "       'redTotalLevel', 'redAvgLevel', 'redJungleMinionKills',\n",
       "       'redKillingSpree', 'redTotalHeal', 'redObjectDamageDealt'],\n",
       "      dtype='object')"
      ]
     },
     "execution_count": 11,
     "metadata": {},
     "output_type": "execute_result"
    }
   ],
   "source": [
    "master_ranked_games_playes.columns"
   ]
  },
  {
   "cell_type": "code",
   "execution_count": 12,
   "id": "81a5846a-4cf2-4441-aec5-93f51aecae4b",
   "metadata": {},
   "outputs": [],
   "source": [
    "micro_dataset = master_ranked_games_playes[['blueWins', 'blueFirstBlood','blueKills','blueDeath','blueAssist',\n",
    "                                           'blueKillingSpree','redWins','redFirstBlood','redKills','redDeath',\n",
    "                                           'redAssist','redKillingSpree']]"
   ]
  },
  {
   "cell_type": "code",
   "execution_count": 13,
   "id": "9464c578-c3c3-4bcf-b072-633cad311733",
   "metadata": {},
   "outputs": [
    {
     "data": {
      "text/html": [
       "<div>\n",
       "<style scoped>\n",
       "    .dataframe tbody tr th:only-of-type {\n",
       "        vertical-align: middle;\n",
       "    }\n",
       "\n",
       "    .dataframe tbody tr th {\n",
       "        vertical-align: top;\n",
       "    }\n",
       "\n",
       "    .dataframe thead th {\n",
       "        text-align: right;\n",
       "    }\n",
       "</style>\n",
       "<table border=\"1\" class=\"dataframe\">\n",
       "  <thead>\n",
       "    <tr style=\"text-align: right;\">\n",
       "      <th></th>\n",
       "      <th>blueWins</th>\n",
       "      <th>blueFirstBlood</th>\n",
       "      <th>blueKills</th>\n",
       "      <th>blueDeath</th>\n",
       "      <th>blueAssist</th>\n",
       "      <th>blueKillingSpree</th>\n",
       "      <th>redWins</th>\n",
       "      <th>redFirstBlood</th>\n",
       "      <th>redKills</th>\n",
       "      <th>redDeath</th>\n",
       "      <th>redAssist</th>\n",
       "      <th>redKillingSpree</th>\n",
       "    </tr>\n",
       "  </thead>\n",
       "  <tbody>\n",
       "    <tr>\n",
       "      <th>0</th>\n",
       "      <td>0</td>\n",
       "      <td>1</td>\n",
       "      <td>7</td>\n",
       "      <td>19</td>\n",
       "      <td>13</td>\n",
       "      <td>2</td>\n",
       "      <td>1</td>\n",
       "      <td>0</td>\n",
       "      <td>19</td>\n",
       "      <td>7</td>\n",
       "      <td>45</td>\n",
       "      <td>4</td>\n",
       "    </tr>\n",
       "    <tr>\n",
       "      <th>1</th>\n",
       "      <td>0</td>\n",
       "      <td>0</td>\n",
       "      <td>6</td>\n",
       "      <td>22</td>\n",
       "      <td>9</td>\n",
       "      <td>1</td>\n",
       "      <td>1</td>\n",
       "      <td>1</td>\n",
       "      <td>22</td>\n",
       "      <td>6</td>\n",
       "      <td>43</td>\n",
       "      <td>4</td>\n",
       "    </tr>\n",
       "    <tr>\n",
       "      <th>2</th>\n",
       "      <td>1</td>\n",
       "      <td>0</td>\n",
       "      <td>30</td>\n",
       "      <td>13</td>\n",
       "      <td>61</td>\n",
       "      <td>7</td>\n",
       "      <td>0</td>\n",
       "      <td>1</td>\n",
       "      <td>13</td>\n",
       "      <td>30</td>\n",
       "      <td>22</td>\n",
       "      <td>2</td>\n",
       "    </tr>\n",
       "    <tr>\n",
       "      <th>3</th>\n",
       "      <td>1</td>\n",
       "      <td>1</td>\n",
       "      <td>26</td>\n",
       "      <td>3</td>\n",
       "      <td>34</td>\n",
       "      <td>6</td>\n",
       "      <td>0</td>\n",
       "      <td>0</td>\n",
       "      <td>3</td>\n",
       "      <td>26</td>\n",
       "      <td>5</td>\n",
       "      <td>1</td>\n",
       "    </tr>\n",
       "    <tr>\n",
       "      <th>4</th>\n",
       "      <td>0</td>\n",
       "      <td>1</td>\n",
       "      <td>19</td>\n",
       "      <td>24</td>\n",
       "      <td>22</td>\n",
       "      <td>5</td>\n",
       "      <td>1</td>\n",
       "      <td>0</td>\n",
       "      <td>23</td>\n",
       "      <td>19</td>\n",
       "      <td>39</td>\n",
       "      <td>7</td>\n",
       "    </tr>\n",
       "  </tbody>\n",
       "</table>\n",
       "</div>"
      ],
      "text/plain": [
       "   blueWins  blueFirstBlood  blueKills  blueDeath  blueAssist  \\\n",
       "0         0               1          7         19          13   \n",
       "1         0               0          6         22           9   \n",
       "2         1               0         30         13          61   \n",
       "3         1               1         26          3          34   \n",
       "4         0               1         19         24          22   \n",
       "\n",
       "   blueKillingSpree  redWins  redFirstBlood  redKills  redDeath  redAssist  \\\n",
       "0                 2        1              0        19         7         45   \n",
       "1                 1        1              1        22         6         43   \n",
       "2                 7        0              1        13        30         22   \n",
       "3                 6        0              0         3        26          5   \n",
       "4                 5        1              0        23        19         39   \n",
       "\n",
       "   redKillingSpree  \n",
       "0                4  \n",
       "1                4  \n",
       "2                2  \n",
       "3                1  \n",
       "4                7  "
      ]
     },
     "execution_count": 13,
     "metadata": {},
     "output_type": "execute_result"
    }
   ],
   "source": [
    "micro_dataset.head(5)"
   ]
  },
  {
   "cell_type": "markdown",
   "id": "0c235aa9-da04-4679-a118-9e77c6634fd3",
   "metadata": {},
   "source": [
    "Para entender un poco más este data set explicaremos que significa cada columna para un mejor entendimiento"
   ]
  },
  {
   "cell_type": "markdown",
   "id": "ebf6f642-1929-456c-9f91-f17096aac2dd",
   "metadata": {},
   "source": [
    "* Wins = Que equipo ganó la partida \n",
    "* FirstBlood = Que equipo realizo el primer asesinato \n",
    "* Kills = Total de asesinatos por equipo \n",
    "* Deat = total de muertes por equipo \n",
    "* Assists = total de asistencias por equipo \n",
    "* KillingSpree = total de asesinatos multiples por equipo"
   ]
  },
  {
   "cell_type": "markdown",
   "id": "5ec98b41-9d71-452f-a558-9e5cc6d46a19",
   "metadata": {},
   "source": [
    "###  Visuaización de los Datos para Micro "
   ]
  },
  {
   "cell_type": "code",
   "execution_count": 14,
   "id": "7a88203f-5a6c-493a-a02e-36e87393701b",
   "metadata": {},
   "outputs": [
    {
     "data": {
      "text/plain": [
       "<AxesSubplot:>"
      ]
     },
     "execution_count": 14,
     "metadata": {},
     "output_type": "execute_result"
    },
    {
     "data": {
      "image/png": "[encoded data removed]",
      "text/plain": [
       "<Figure size 432x288 with 1 Axes>"
      ]
     },
     "metadata": {
      "needs_background": "light"
     },
     "output_type": "display_data"
    }
   ],
   "source": [
    "sns.heatmap(micro_dataset.isnull(),yticklabels=False,cbar=False,cmap='viridis')"
   ]
  },
  {
   "cell_type": "markdown",
   "id": "806019bd-908f-4994-bd79-5be947f507a9",
   "metadata": {},
   "source": [
    "Este mapa que realizamos nos indica si existen valores nulos en las columnas, por lo cual no tenemos un colo amarillo que nos indica que tiene valores nulos. Por lo cual no tenemos que hacer ningun tipo de imputación"
   ]
  },
  {
   "cell_type": "markdown",
   "id": "5d8b109d-7e1c-4800-88f1-8363f8837f8b",
   "metadata": {},
   "source": [
    "#### Visualación variables categoricas de Micro (Blue Wins, Red Wins, Firstbloods)"
   ]
  },
  {
   "cell_type": "code",
   "execution_count": 15,
   "id": "86809a05-e9a1-40ea-b91d-66130db1327c",
   "metadata": {},
   "outputs": [
    {
     "data": {
      "text/plain": [
       "<AxesSubplot:xlabel='blueWins', ylabel='count'>"
      ]
     },
     "execution_count": 15,
     "metadata": {},
     "output_type": "execute_result"
    },
    {
     "data": {
      "image/png": "[encoded data removed]",
      "text/plain": [
       "<Figure size 432x288 with 1 Axes>"
      ]
     },
     "metadata": {},
     "output_type": "display_data"
    }
   ],
   "source": [
    "sns.set_style('whitegrid')\n",
    "sns.countplot(x='blueWins', data = micro_dataset)"
   ]
  },
  {
   "cell_type": "code",
   "execution_count": 16,
   "id": "aca80264-ada6-44c5-a48f-48cc2b7bff40",
   "metadata": {},
   "outputs": [
    {
     "data": {
      "text/plain": [
       "0    50094\n",
       "1    48853\n",
       "Name: blueWins, dtype: int64"
      ]
     },
     "execution_count": 16,
     "metadata": {},
     "output_type": "execute_result"
    }
   ],
   "source": [
    " micro_dataset.blueWins.value_counts()"
   ]
  },
  {
   "cell_type": "markdown",
   "id": "f08b7099-1b26-43fb-b717-1c253b17ea35",
   "metadata": {},
   "source": [
    "Como podemos ver aca la variable 1 significa que gano el equipo azul y cuando es 0 significa que ganó el equipo rojo por lo cual podriamos usar solo una columna de estas y estariamos identificando los dos casos. y vemos que estan bastante bien distribuidas"
   ]
  },
  {
   "cell_type": "code",
   "execution_count": 17,
   "id": "38679ebd-3970-4d52-9fb6-163a2d6f1590",
   "metadata": {},
   "outputs": [
    {
     "data": {
      "text/plain": [
       "<AxesSubplot:xlabel='blueFirstBlood', ylabel='count'>"
      ]
     },
     "execution_count": 17,
     "metadata": {},
     "output_type": "execute_result"
    },
    {
     "data": {
      "image/png": "[encoded data removed]",
      "text/plain": [
       "<Figure size 432x288 with 1 Axes>"
      ]
     },
     "metadata": {},
     "output_type": "display_data"
    }
   ],
   "source": [
    "sns.set_style('whitegrid')\n",
    "sns.countplot(x='blueFirstBlood', data = micro_dataset)"
   ]
  },
  {
   "cell_type": "code",
   "execution_count": 18,
   "id": "d258d915-e9ba-4dff-84a3-af427c4f71cc",
   "metadata": {},
   "outputs": [
    {
     "data": {
      "text/plain": [
       "1    50234\n",
       "0    48713\n",
       "Name: blueFirstBlood, dtype: int64"
      ]
     },
     "execution_count": 18,
     "metadata": {},
     "output_type": "execute_result"
    }
   ],
   "source": [
    " micro_dataset.blueFirstBlood.value_counts()"
   ]
  },
  {
   "cell_type": "markdown",
   "id": "462f108c-b0c6-40fe-a5d9-7448e043ab8b",
   "metadata": {},
   "source": [
    "En el mismo caso podemos identificarlo de la misma manera, 0 significa que el equipo rojo obtuvo la primera sangre y el 1 significa que el equipo azul consiguio la primera sangre. por lo cual podemos usar solo esta columna viendo que esta bastante bien distribuida"
   ]
  },
  {
   "cell_type": "code",
   "execution_count": 19,
   "id": "b4543bf4-b53b-41e7-a0e4-7e4c3a292e71",
   "metadata": {},
   "outputs": [],
   "source": [
    "micro_dataset_1 = micro_dataset.drop(['redWins','redFirstBlood'], axis = 1)"
   ]
  },
  {
   "cell_type": "code",
   "execution_count": 20,
   "id": "fbbc3da5-6ff7-4c5d-9c60-88204e1cfc62",
   "metadata": {},
   "outputs": [
    {
     "data": {
      "text/plain": [
       "Index(['blueWins', 'blueFirstBlood', 'blueKills', 'blueDeath', 'blueAssist',\n",
       "       'blueKillingSpree', 'redKills', 'redDeath', 'redAssist',\n",
       "       'redKillingSpree'],\n",
       "      dtype='object')"
      ]
     },
     "execution_count": 20,
     "metadata": {},
     "output_type": "execute_result"
    }
   ],
   "source": [
    "micro_dataset_1.columns"
   ]
  },
  {
   "cell_type": "markdown",
   "id": "334802a9-82eb-4ae6-a110-2b3d77437ed1",
   "metadata": {},
   "source": [
    "#### Visualizando variables Numéricas"
   ]
  },
  {
   "cell_type": "code",
   "execution_count": 21,
   "id": "cdba2f90-ec99-4b57-b751-d0c385dabee8",
   "metadata": {},
   "outputs": [
    {
     "data": {
      "text/plain": [
       "<AxesSubplot:xlabel='blueKills'>"
      ]
     },
     "execution_count": 21,
     "metadata": {},
     "output_type": "execute_result"
    },
    {
     "data": {
      "image/png": "[encoded data removed]",
      "text/plain": [
       "<Figure size 432x288 with 1 Axes>"
      ]
     },
     "metadata": {},
     "output_type": "display_data"
    }
   ],
   "source": [
    "sns.distplot(micro_dataset_1.blueKills, kde=False, color='darkred')"
   ]
  },
  {
   "cell_type": "markdown",
   "id": "40542696-f593-436a-959f-bf1fcd0d4d74",
   "metadata": {},
   "source": [
    "Podemos ver en la variable blueKills que tiene una forma de distribución normal con un Skew hacia la derecha, este skew era de esperarse, ya que existen partida que se mata mucho, por lo cual no creo necesario hacer algún tipo de proceso en este caso"
   ]
  },
  {
   "cell_type": "code",
   "execution_count": 22,
   "id": "2bc8b7e7-2e57-4c5e-946d-de19efad3daf",
   "metadata": {},
   "outputs": [
    {
     "data": {
      "text/plain": [
       "<AxesSubplot:xlabel='blueDeath'>"
      ]
     },
     "execution_count": 22,
     "metadata": {},
     "output_type": "execute_result"
    },
    {
     "data": {
      "image/png": "[encoded data removed]",
      "text/plain": [
       "<Figure size 432x288 with 1 Axes>"
      ]
     },
     "metadata": {},
     "output_type": "display_data"
    }
   ],
   "source": [
    "sns.distplot(micro_dataset_1.blueDeath, kde=False, color='darkred')"
   ]
  },
  {
   "cell_type": "markdown",
   "id": "4a624671-d9d3-4af7-bf8f-a9e1b1b4d4ea",
   "metadata": {},
   "source": [
    "De la misma manera tenemos una distribución normal con otro pequeño skew a la derecha, por la misma razón que explicamos anteriormente suele pasar que los jugadores mueren más de la cuenta"
   ]
  },
  {
   "cell_type": "code",
   "execution_count": 23,
   "id": "dbebeb4e-35d3-4e31-a723-81f15a7606d3",
   "metadata": {},
   "outputs": [
    {
     "data": {
      "text/plain": [
       "<AxesSubplot:xlabel='blueAssist'>"
      ]
     },
     "execution_count": 23,
     "metadata": {},
     "output_type": "execute_result"
    },
    {
     "data": {
      "image/png": "[encoded data removed]",
      "text/plain": [
       "<Figure size 432x288 with 1 Axes>"
      ]
     },
     "metadata": {},
     "output_type": "display_data"
    }
   ],
   "source": [
    "sns.distplot(micro_dataset_1.blueAssist, kde=False, color='darkred')"
   ]
  },
  {
   "cell_type": "markdown",
   "id": "fed03f95-1136-4de8-9826-063d53e64f4e",
   "metadata": {},
   "source": [
    "Ahora este si tiene un skew bastante marcado a la derecha y la distribución normal no es tan clara. Pero este se debe a que aveces algún asesinato tiene más de 1 asistente. Por lo cual no podemos quitarle este skew ya que es un dato que es muy real y posible"
   ]
  },
  {
   "cell_type": "code",
   "execution_count": 24,
   "id": "1eb5cfd7-8580-411b-aad7-51de86501b54",
   "metadata": {},
   "outputs": [
    {
     "data": {
      "text/plain": [
       "<AxesSubplot:xlabel='blueKillingSpree'>"
      ]
     },
     "execution_count": 24,
     "metadata": {},
     "output_type": "execute_result"
    },
    {
     "data": {
      "image/png": "[encoded data removed]",
      "text/plain": [
       "<Figure size 432x288 with 1 Axes>"
      ]
     },
     "metadata": {},
     "output_type": "display_data"
    }
   ],
   "source": [
    "sns.distplot(micro_dataset_1.blueKillingSpree, kde=False, color='darkred')"
   ]
  },
  {
   "cell_type": "markdown",
   "id": "dcfc5ce7-718b-41af-bd53-8538782239b1",
   "metadata": {},
   "source": [
    "Como podemos ver este caso al igual que las demas se comporta de una forma ciertamente normal, pero con este pequeño skew a la derecha, lo cual es normal y muy posible."
   ]
  },
  {
   "cell_type": "code",
   "execution_count": 25,
   "id": "8c681c51-83fa-4fc0-8c70-a5fbba571656",
   "metadata": {},
   "outputs": [
    {
     "data": {
      "text/plain": [
       "<AxesSubplot:xlabel='redKills'>"
      ]
     },
     "execution_count": 25,
     "metadata": {},
     "output_type": "execute_result"
    },
    {
     "data": {
      "image/png": "[encoded data removed]",
      "text/plain": [
       "<Figure size 432x288 with 1 Axes>"
      ]
     },
     "metadata": {},
     "output_type": "display_data"
    }
   ],
   "source": [
    "sns.distplot(micro_dataset_1.redKills, kde=False, color='darkred')"
   ]
  },
  {
   "cell_type": "code",
   "execution_count": 26,
   "id": "4e79ea75-447b-467a-b047-4b022c3ce09d",
   "metadata": {},
   "outputs": [
    {
     "data": {
      "text/plain": [
       "<AxesSubplot:xlabel='redDeath'>"
      ]
     },
     "execution_count": 26,
     "metadata": {},
     "output_type": "execute_result"
    },
    {
     "data": {
      "image/png": "[encoded data removed]",
      "text/plain": [
       "<Figure size 432x288 with 1 Axes>"
      ]
     },
     "metadata": {},
     "output_type": "display_data"
    }
   ],
   "source": [
    "sns.distplot(micro_dataset_1.redDeath, kde=False, color='darkred')"
   ]
  },
  {
   "cell_type": "code",
   "execution_count": 27,
   "id": "b90614ec-5a58-4f5c-9974-e843d5145f29",
   "metadata": {},
   "outputs": [
    {
     "data": {
      "text/plain": [
       "<AxesSubplot:xlabel='redAssist'>"
      ]
     },
     "execution_count": 27,
     "metadata": {},
     "output_type": "execute_result"
    },
    {
     "data": {
      "image/png": "[encoded data removed]",
      "text/plain": [
       "<Figure size 432x288 with 1 Axes>"
      ]
     },
     "metadata": {},
     "output_type": "display_data"
    }
   ],
   "source": [
    "sns.distplot(micro_dataset_1.redAssist, kde=False, color='darkred')"
   ]
  },
  {
   "cell_type": "code",
   "execution_count": 28,
   "id": "3c3690d0-c202-4a68-b146-65550b05407a",
   "metadata": {},
   "outputs": [
    {
     "data": {
      "text/plain": [
       "<AxesSubplot:xlabel='redKillingSpree'>"
      ]
     },
     "execution_count": 28,
     "metadata": {},
     "output_type": "execute_result"
    },
    {
     "data": {
      "image/png": "[encoded data removed]",
      "text/plain": [
       "<Figure size 432x288 with 1 Axes>"
      ]
     },
     "metadata": {},
     "output_type": "display_data"
    }
   ],
   "source": [
    "sns.distplot(micro_dataset_1.redKillingSpree, kde=False, color='darkred')"
   ]
  },
  {
   "cell_type": "markdown",
   "id": "3f2edac4-6541-4238-ada2-fdadb2b507ed",
   "metadata": {},
   "source": [
    "Como esperabamos en el caso de Red en todas las categorias se comporta de una manera bastanse similar"
   ]
  },
  {
   "cell_type": "code",
   "execution_count": 29,
   "id": "a84bfb5b-01ed-48d1-a7bb-2a19127bdb53",
   "metadata": {},
   "outputs": [
    {
     "data": {
      "text/html": [
       "<div>\n",
       "<style scoped>\n",
       "    .dataframe tbody tr th:only-of-type {\n",
       "        vertical-align: middle;\n",
       "    }\n",
       "\n",
       "    .dataframe tbody tr th {\n",
       "        vertical-align: top;\n",
       "    }\n",
       "\n",
       "    .dataframe thead th {\n",
       "        text-align: right;\n",
       "    }\n",
       "</style>\n",
       "<table border=\"1\" class=\"dataframe\">\n",
       "  <thead>\n",
       "    <tr style=\"text-align: right;\">\n",
       "      <th></th>\n",
       "      <th>blueWins</th>\n",
       "      <th>blueFirstBlood</th>\n",
       "      <th>blueKills</th>\n",
       "      <th>blueDeath</th>\n",
       "      <th>blueAssist</th>\n",
       "      <th>blueKillingSpree</th>\n",
       "      <th>redKills</th>\n",
       "      <th>redDeath</th>\n",
       "      <th>redAssist</th>\n",
       "      <th>redKillingSpree</th>\n",
       "    </tr>\n",
       "  </thead>\n",
       "  <tbody>\n",
       "    <tr>\n",
       "      <th>0</th>\n",
       "      <td>0</td>\n",
       "      <td>1</td>\n",
       "      <td>7</td>\n",
       "      <td>19</td>\n",
       "      <td>13</td>\n",
       "      <td>2</td>\n",
       "      <td>19</td>\n",
       "      <td>7</td>\n",
       "      <td>45</td>\n",
       "      <td>4</td>\n",
       "    </tr>\n",
       "    <tr>\n",
       "      <th>1</th>\n",
       "      <td>0</td>\n",
       "      <td>0</td>\n",
       "      <td>6</td>\n",
       "      <td>22</td>\n",
       "      <td>9</td>\n",
       "      <td>1</td>\n",
       "      <td>22</td>\n",
       "      <td>6</td>\n",
       "      <td>43</td>\n",
       "      <td>4</td>\n",
       "    </tr>\n",
       "    <tr>\n",
       "      <th>2</th>\n",
       "      <td>1</td>\n",
       "      <td>0</td>\n",
       "      <td>30</td>\n",
       "      <td>13</td>\n",
       "      <td>61</td>\n",
       "      <td>7</td>\n",
       "      <td>13</td>\n",
       "      <td>30</td>\n",
       "      <td>22</td>\n",
       "      <td>2</td>\n",
       "    </tr>\n",
       "    <tr>\n",
       "      <th>3</th>\n",
       "      <td>1</td>\n",
       "      <td>1</td>\n",
       "      <td>26</td>\n",
       "      <td>3</td>\n",
       "      <td>34</td>\n",
       "      <td>6</td>\n",
       "      <td>3</td>\n",
       "      <td>26</td>\n",
       "      <td>5</td>\n",
       "      <td>1</td>\n",
       "    </tr>\n",
       "    <tr>\n",
       "      <th>4</th>\n",
       "      <td>0</td>\n",
       "      <td>1</td>\n",
       "      <td>19</td>\n",
       "      <td>24</td>\n",
       "      <td>22</td>\n",
       "      <td>5</td>\n",
       "      <td>23</td>\n",
       "      <td>19</td>\n",
       "      <td>39</td>\n",
       "      <td>7</td>\n",
       "    </tr>\n",
       "  </tbody>\n",
       "</table>\n",
       "</div>"
      ],
      "text/plain": [
       "   blueWins  blueFirstBlood  blueKills  blueDeath  blueAssist  \\\n",
       "0         0               1          7         19          13   \n",
       "1         0               0          6         22           9   \n",
       "2         1               0         30         13          61   \n",
       "3         1               1         26          3          34   \n",
       "4         0               1         19         24          22   \n",
       "\n",
       "   blueKillingSpree  redKills  redDeath  redAssist  redKillingSpree  \n",
       "0                 2        19         7         45                4  \n",
       "1                 1        22         6         43                4  \n",
       "2                 7        13        30         22                2  \n",
       "3                 6         3        26          5                1  \n",
       "4                 5        23        19         39                7  "
      ]
     },
     "execution_count": 29,
     "metadata": {},
     "output_type": "execute_result"
    }
   ],
   "source": [
    "micro_dataset_1.head()"
   ]
  },
  {
   "cell_type": "markdown",
   "id": "9c1ee2d9-6816-4961-831f-7e01a7549c6b",
   "metadata": {},
   "source": [
    "Este sería el Dataset de micro con el cual trabajariamos y hariamos el preprocesamiento para armar nuestro modelo"
   ]
  },
  {
   "cell_type": "markdown",
   "id": "45da22d3-dcd3-4d2b-8aca-723a518a4bf7",
   "metadata": {},
   "source": [
    "#### Existe Correlación entre las variables?"
   ]
  },
  {
   "cell_type": "code",
   "execution_count": 30,
   "id": "36e98f40-d6a4-4879-acd1-50053904529b",
   "metadata": {},
   "outputs": [
    {
     "data": {
      "text/plain": [
       "<AxesSubplot:>"
      ]
     },
     "execution_count": 30,
     "metadata": {},
     "output_type": "execute_result"
    },
    {
     "data": {
      "image/png": "[encoded data removed]",
      "text/plain": [
       "<Figure size 432x288 with 2 Axes>"
      ]
     },
     "metadata": {},
     "output_type": "display_data"
    }
   ],
   "source": [
    "cor = micro_dataset_1.corr()\n",
    "sns.heatmap(cor, xticklabels = cor.columns, yticklabels=cor.columns)"
   ]
  },
  {
   "cell_type": "markdown",
   "id": "38857ef8-132d-454c-bd8f-1c3915f3139a",
   "metadata": {},
   "source": [
    "Donde tenemos algun tipo de correlación es en el total de RedKills con redDeaths lo cual explica lo mismo ya que si el equipo azul mata cierta cantidad esto sería totalmente proporcional a cuantas veces se murió el otro equipo. Por lo tanto tome la decisión de eliminar las variables de death para hacer mejor la regresión"
   ]
  },
  {
   "cell_type": "code",
   "execution_count": 31,
   "id": "45da46f4-5621-43e1-aaf4-dd3a4e728c17",
   "metadata": {},
   "outputs": [],
   "source": [
    "micro_ds_final = micro_dataset_1.drop(['redDeath','blueDeath'],axis=1)"
   ]
  },
  {
   "cell_type": "code",
   "execution_count": 32,
   "id": "2b6de471-7359-4eb5-8bff-6aa38508aafd",
   "metadata": {},
   "outputs": [
    {
     "data": {
      "text/html": [
       "<div>\n",
       "<style scoped>\n",
       "    .dataframe tbody tr th:only-of-type {\n",
       "        vertical-align: middle;\n",
       "    }\n",
       "\n",
       "    .dataframe tbody tr th {\n",
       "        vertical-align: top;\n",
       "    }\n",
       "\n",
       "    .dataframe thead th {\n",
       "        text-align: right;\n",
       "    }\n",
       "</style>\n",
       "<table border=\"1\" class=\"dataframe\">\n",
       "  <thead>\n",
       "    <tr style=\"text-align: right;\">\n",
       "      <th></th>\n",
       "      <th>blueWins</th>\n",
       "      <th>blueFirstBlood</th>\n",
       "      <th>blueKills</th>\n",
       "      <th>blueAssist</th>\n",
       "      <th>blueKillingSpree</th>\n",
       "      <th>redKills</th>\n",
       "      <th>redAssist</th>\n",
       "      <th>redKillingSpree</th>\n",
       "    </tr>\n",
       "  </thead>\n",
       "  <tbody>\n",
       "    <tr>\n",
       "      <th>0</th>\n",
       "      <td>0</td>\n",
       "      <td>1</td>\n",
       "      <td>7</td>\n",
       "      <td>13</td>\n",
       "      <td>2</td>\n",
       "      <td>19</td>\n",
       "      <td>45</td>\n",
       "      <td>4</td>\n",
       "    </tr>\n",
       "    <tr>\n",
       "      <th>1</th>\n",
       "      <td>0</td>\n",
       "      <td>0</td>\n",
       "      <td>6</td>\n",
       "      <td>9</td>\n",
       "      <td>1</td>\n",
       "      <td>22</td>\n",
       "      <td>43</td>\n",
       "      <td>4</td>\n",
       "    </tr>\n",
       "    <tr>\n",
       "      <th>2</th>\n",
       "      <td>1</td>\n",
       "      <td>0</td>\n",
       "      <td>30</td>\n",
       "      <td>61</td>\n",
       "      <td>7</td>\n",
       "      <td>13</td>\n",
       "      <td>22</td>\n",
       "      <td>2</td>\n",
       "    </tr>\n",
       "    <tr>\n",
       "      <th>3</th>\n",
       "      <td>1</td>\n",
       "      <td>1</td>\n",
       "      <td>26</td>\n",
       "      <td>34</td>\n",
       "      <td>6</td>\n",
       "      <td>3</td>\n",
       "      <td>5</td>\n",
       "      <td>1</td>\n",
       "    </tr>\n",
       "    <tr>\n",
       "      <th>4</th>\n",
       "      <td>0</td>\n",
       "      <td>1</td>\n",
       "      <td>19</td>\n",
       "      <td>22</td>\n",
       "      <td>5</td>\n",
       "      <td>23</td>\n",
       "      <td>39</td>\n",
       "      <td>7</td>\n",
       "    </tr>\n",
       "  </tbody>\n",
       "</table>\n",
       "</div>"
      ],
      "text/plain": [
       "   blueWins  blueFirstBlood  blueKills  blueAssist  blueKillingSpree  \\\n",
       "0         0               1          7          13                 2   \n",
       "1         0               0          6           9                 1   \n",
       "2         1               0         30          61                 7   \n",
       "3         1               1         26          34                 6   \n",
       "4         0               1         19          22                 5   \n",
       "\n",
       "   redKills  redAssist  redKillingSpree  \n",
       "0        19         45                4  \n",
       "1        22         43                4  \n",
       "2        13         22                2  \n",
       "3         3          5                1  \n",
       "4        23         39                7  "
      ]
     },
     "execution_count": 32,
     "metadata": {},
     "output_type": "execute_result"
    }
   ],
   "source": [
    "micro_ds_final.head()"
   ]
  },
  {
   "cell_type": "code",
   "execution_count": 33,
   "id": "bb35d3bb-a635-413d-bf54-a1159d572c67",
   "metadata": {},
   "outputs": [
    {
     "data": {
      "text/plain": [
       "<AxesSubplot:>"
      ]
     },
     "execution_count": 33,
     "metadata": {},
     "output_type": "execute_result"
    },
    {
     "data": {
      "image/png": "[encoded data removed]",
      "text/plain": [
       "<Figure size 432x288 with 2 Axes>"
      ]
     },
     "metadata": {},
     "output_type": "display_data"
    }
   ],
   "source": [
    "cor2 = micro_ds_final.corr()\n",
    "sns.heatmap(cor2, xticklabels = cor2.columns, yticklabels=cor2.columns)"
   ]
  },
  {
   "cell_type": "markdown",
   "id": "f0fc82b9-1334-4db9-b3ed-606a0b5e75b1",
   "metadata": {},
   "source": [
    "Ahora ya no tenemos una correlación tan fuerte, solo el único caso que tendría algun sentido es el de las asistencias, pero no llega a ser una correlación perfecta, por lo cual lo podemos usar."
   ]
  },
  {
   "cell_type": "markdown",
   "id": "4e8bb5de-1a60-49d4-9891-57351234ef5b",
   "metadata": {},
   "source": [
    "## Macro DataSet"
   ]
  },
  {
   "cell_type": "code",
   "execution_count": 34,
   "id": "17925771-562f-456b-a5c3-051fb39dbe04",
   "metadata": {},
   "outputs": [
    {
     "data": {
      "text/plain": [
       "Index(['gameId', 'gameDuraton', 'blueWins', 'blueFirstBlood', 'blueFirstTower',\n",
       "       'blueFirstBaron', 'blueFirstDragon', 'blueFirstInhibitor',\n",
       "       'blueDragonKills', 'blueBaronKills', 'blueTowerKills',\n",
       "       'blueInhibitorKills', 'blueWardPlaced', 'blueWardkills', 'blueKills',\n",
       "       'blueDeath', 'blueAssist', 'blueChampionDamageDealt', 'blueTotalGold',\n",
       "       'blueTotalMinionKills', 'blueTotalLevel', 'blueAvgLevel',\n",
       "       'blueJungleMinionKills', 'blueKillingSpree', 'blueTotalHeal',\n",
       "       'blueObjectDamageDealt', 'redWins', 'redFirstBlood', 'redFirstTower',\n",
       "       'redFirstBaron', 'redFirstDragon', 'redFirstInhibitor',\n",
       "       'redDragonKills', 'redBaronKills', 'redTowerKills', 'redInhibitorKills',\n",
       "       'redWardPlaced', 'redWardkills', 'redKills', 'redDeath', 'redAssist',\n",
       "       'redChampionDamageDealt', 'redTotalGold', 'redTotalMinionKills',\n",
       "       'redTotalLevel', 'redAvgLevel', 'redJungleMinionKills',\n",
       "       'redKillingSpree', 'redTotalHeal', 'redObjectDamageDealt'],\n",
       "      dtype='object')"
      ]
     },
     "execution_count": 34,
     "metadata": {},
     "output_type": "execute_result"
    }
   ],
   "source": [
    "master_ranked_games_playes.columns"
   ]
  },
  {
   "cell_type": "code",
   "execution_count": 35,
   "id": "291f5c02-ec48-4166-bda8-c04096c40b8f",
   "metadata": {},
   "outputs": [],
   "source": [
    "macro_dataset = master_ranked_games_playes[['blueWins','blueDragonKills','blueBaronKills','blueInhibitorKills',\n",
    "                                            'blueTotalMinionKills','redDragonKills','redBaronKills','redInhibitorKills',\n",
    "                                           'redTotalMinionKills']]"
   ]
  },
  {
   "cell_type": "markdown",
   "id": "db9be4f1-76f3-4387-87e1-4df50b150744",
   "metadata": {},
   "source": [
    "Para hacer una explicación rápida de las columnas que escogimos para este dataset"
   ]
  },
  {
   "cell_type": "markdown",
   "id": "aaa328e5-9dc8-4368-83d9-9918542ff867",
   "metadata": {},
   "source": [
    "* Blue Wins: Repasamos que era si el equipo azul ganó como variable booleana\n",
    "* DragonKills: cuantos dragones mataron los equipos \n",
    "* Inhibidor: cuando inhibitors derrotaron por equipo\n",
    "* MinionKills: en combinado cuantos subditos derrotaron el equipo \n",
    "* BaronKills: cuantos barones derrotaron por equipo"
   ]
  },
  {
   "cell_type": "markdown",
   "id": "ea3a7eee-5d6e-466d-b795-af0443a61347",
   "metadata": {},
   "source": [
    "### Visualización datos para Macro"
   ]
  },
  {
   "cell_type": "code",
   "execution_count": 36,
   "id": "de57d6c4-114c-45b4-ab47-c27418c720d9",
   "metadata": {},
   "outputs": [
    {
     "data": {
      "text/plain": [
       "<AxesSubplot:>"
      ]
     },
     "execution_count": 36,
     "metadata": {},
     "output_type": "execute_result"
    },
    {
     "data": {
      "image/png": "[encoded data removed]",
      "text/plain": [
       "<Figure size 432x288 with 1 Axes>"
      ]
     },
     "metadata": {},
     "output_type": "display_data"
    }
   ],
   "source": [
    "sns.heatmap(macro_dataset.isnull(),yticklabels=False,cbar=False,cmap='viridis')"
   ]
  },
  {
   "cell_type": "markdown",
   "id": "ac61d095-1a48-4b50-9219-66e269071f5d",
   "metadata": {},
   "source": [
    "No contamos con ningún Na en el data set por lo cual no tenemos que hacer ningún tipo de imputación"
   ]
  },
  {
   "cell_type": "markdown",
   "id": "a477e409-b96c-41ca-96c0-e2c371cd4603",
   "metadata": {},
   "source": [
    "### Visualización para variable categorica de Micro(BlueWins)"
   ]
  },
  {
   "cell_type": "code",
   "execution_count": 37,
   "id": "8f792efd-55c7-4728-a5b4-d5ad6827f9a2",
   "metadata": {},
   "outputs": [
    {
     "data": {
      "text/plain": [
       "<AxesSubplot:xlabel='blueWins', ylabel='count'>"
      ]
     },
     "execution_count": 37,
     "metadata": {},
     "output_type": "execute_result"
    },
    {
     "data": {
      "image/png": "[encoded data removed]",
      "text/plain": [
       "<Figure size 432x288 with 1 Axes>"
      ]
     },
     "metadata": {},
     "output_type": "display_data"
    }
   ],
   "source": [
    "sns.set_style('whitegrid')\n",
    "sns.countplot(x='blueWins', data = macro_dataset)"
   ]
  },
  {
   "cell_type": "markdown",
   "id": "0c8b0c32-3a42-4817-af63-629858e74cff",
   "metadata": {},
   "source": [
    "Podemos observar que esta bastante bien distribuida y podemos hacer un análsis bastante bueno "
   ]
  },
  {
   "cell_type": "code",
   "execution_count": 38,
   "id": "284e708b-f105-4384-b8b2-8e93f73720f3",
   "metadata": {},
   "outputs": [
    {
     "data": {
      "text/plain": [
       "<AxesSubplot:xlabel='blueDragonKills'>"
      ]
     },
     "execution_count": 38,
     "metadata": {},
     "output_type": "execute_result"
    },
    {
     "data": {
      "image/png": "[encoded data removed]",
      "text/plain": [
       "<Figure size 432x288 with 1 Axes>"
      ]
     },
     "metadata": {},
     "output_type": "display_data"
    }
   ],
   "source": [
    "sns.distplot(macro_dataset.blueDragonKills, kde=False, color='darkred')"
   ]
  },
  {
   "cell_type": "markdown",
   "id": "6ede5b47-3a6b-45e7-b369-8b7a6e9c9eb6",
   "metadata": {},
   "source": [
    "Esta variable se ve así ya que el Dragon solo puede ser asesinado 5 veces como máximo, llegar a este punto de la partida es complicado, por lo cual podemos ver una distribución un poco extraña pero tiene sentido"
   ]
  },
  {
   "cell_type": "code",
   "execution_count": 39,
   "id": "efc7436d-1ad8-49b5-99fb-c8bcea3f26e4",
   "metadata": {},
   "outputs": [
    {
     "data": {
      "text/plain": [
       "<AxesSubplot:xlabel='blueBaronKills'>"
      ]
     },
     "execution_count": 39,
     "metadata": {},
     "output_type": "execute_result"
    },
    {
     "data": {
      "image/png": "[encoded data removed]",
      "text/plain": [
       "<Figure size 432x288 with 1 Axes>"
      ]
     },
     "metadata": {},
     "output_type": "display_data"
    }
   ],
   "source": [
    "sns.distplot(macro_dataset.blueBaronKills, kde=False, color='darkred')"
   ]
  },
  {
   "cell_type": "markdown",
   "id": "59c13547-37be-40b2-9925-706f8a3a46d7",
   "metadata": {},
   "source": [
    "Al igual que los dragones, aunque el baron no tiene un límite de asesinatos es muy complicado hacer más de dos barones en una partida, ya que es un aspecto del macro grame muy condicionanete y complicado de realizar, por lo cual tiene sentido que se comporte de esta manera"
   ]
  },
  {
   "cell_type": "code",
   "execution_count": 40,
   "id": "4a982b4b-52d7-4fea-9832-7c30f6080059",
   "metadata": {},
   "outputs": [
    {
     "data": {
      "text/plain": [
       "<AxesSubplot:xlabel='blueInhibitorKills'>"
      ]
     },
     "execution_count": 40,
     "metadata": {},
     "output_type": "execute_result"
    },
    {
     "data": {
      "image/png": "[encoded data removed]",
      "text/plain": [
       "<Figure size 432x288 with 1 Axes>"
      ]
     },
     "metadata": {},
     "output_type": "display_data"
    }
   ],
   "source": [
    "sns.distplot(macro_dataset.blueInhibitorKills, kde=False, color='darkred')"
   ]
  },
  {
   "cell_type": "markdown",
   "id": "79a17fe1-c26f-4c6d-84f1-408ea6743c1c",
   "metadata": {},
   "source": [
    "Los inhibidores son uno de los ultimos objetivos que derrotar para poder acceder a la base enemiga, en este solo existen tres inhibidores, pero derrotar solo uno es posible ganar la partida de esta manera. Estos pueden volver a salir, por lo cual tenemos algunas observaciones en 4 y en 5. Tiene muchos entido como se comportan los datos"
   ]
  },
  {
   "cell_type": "code",
   "execution_count": 41,
   "id": "60afb283-528d-48d3-90ba-b2ac7b9c4685",
   "metadata": {},
   "outputs": [
    {
     "data": {
      "text/plain": [
       "<AxesSubplot:xlabel='blueTotalMinionKills'>"
      ]
     },
     "execution_count": 41,
     "metadata": {},
     "output_type": "execute_result"
    },
    {
     "data": {
      "image/png": "[encoded data removed]",
      "text/plain": [
       "<Figure size 432x288 with 1 Axes>"
      ]
     },
     "metadata": {},
     "output_type": "display_data"
    }
   ],
   "source": [
    "sns.distplot(macro_dataset.blueTotalMinionKills, kde=False, color='darkred')"
   ]
  },
  {
   "cell_type": "markdown",
   "id": "24f692bb-a6f3-4b32-8662-f512298a5c96",
   "metadata": {},
   "source": [
    "Aqui tenemos una distribución normal bastante buena, lo cual nos da un visto bueno a que podamos trabajar con esta variable y tiene un comportamiento esperado"
   ]
  },
  {
   "cell_type": "code",
   "execution_count": 42,
   "id": "656efddc-3c48-41ac-ae94-bca7d49dfe1e",
   "metadata": {},
   "outputs": [
    {
     "data": {
      "text/plain": [
       "<AxesSubplot:xlabel='redDragonKills'>"
      ]
     },
     "execution_count": 42,
     "metadata": {},
     "output_type": "execute_result"
    },
    {
     "data": {
      "image/png": "[encoded data removed]",
      "text/plain": [
       "<Figure size 432x288 with 1 Axes>"
      ]
     },
     "metadata": {},
     "output_type": "display_data"
    }
   ],
   "source": [
    "sns.distplot(macro_dataset.redDragonKills, kde=False, color='darkred')"
   ]
  },
  {
   "cell_type": "code",
   "execution_count": 43,
   "id": "c2803775-fd74-4742-8459-640af077f9d6",
   "metadata": {},
   "outputs": [
    {
     "data": {
      "text/plain": [
       "<AxesSubplot:xlabel='redBaronKills'>"
      ]
     },
     "execution_count": 43,
     "metadata": {},
     "output_type": "execute_result"
    },
    {
     "data": {
      "image/png": "[encoded data removed]",
      "text/plain": [
       "<Figure size 432x288 with 1 Axes>"
      ]
     },
     "metadata": {},
     "output_type": "display_data"
    }
   ],
   "source": [
    "sns.distplot(macro_dataset.redBaronKills, kde=False, color='darkred')"
   ]
  },
  {
   "cell_type": "code",
   "execution_count": 44,
   "id": "41703d35-ee09-4a5b-9823-b784891acbcf",
   "metadata": {},
   "outputs": [
    {
     "data": {
      "text/plain": [
       "<AxesSubplot:xlabel='redInhibitorKills'>"
      ]
     },
     "execution_count": 44,
     "metadata": {},
     "output_type": "execute_result"
    },
    {
     "data": {
      "image/png": "[encoded data removed]",
      "text/plain": [
       "<Figure size 432x288 with 1 Axes>"
      ]
     },
     "metadata": {},
     "output_type": "display_data"
    }
   ],
   "source": [
    "sns.distplot(macro_dataset.redInhibitorKills, kde=False, color='darkred')"
   ]
  },
  {
   "cell_type": "code",
   "execution_count": 45,
   "id": "8d8ca97a-7b14-473b-bdb6-402dfa6fec31",
   "metadata": {},
   "outputs": [
    {
     "data": {
      "text/plain": [
       "<AxesSubplot:xlabel='redTotalMinionKills'>"
      ]
     },
     "execution_count": 45,
     "metadata": {},
     "output_type": "execute_result"
    },
    {
     "data": {
      "image/png": "[encoded data removed]",
      "text/plain": [
       "<Figure size 432x288 with 1 Axes>"
      ]
     },
     "metadata": {},
     "output_type": "display_data"
    }
   ],
   "source": [
    "sns.distplot(macro_dataset.redTotalMinionKills, kde=False, color='darkred')"
   ]
  },
  {
   "cell_type": "markdown",
   "id": "6af8a54b-cb24-4329-b7d5-c91e21b71142",
   "metadata": {},
   "source": [
    "Como esperabamos las variables del lado de Red team no tienen diferencia con el compoertamiento de las del read team, por lo cual podemos seguir adelante con el proceso"
   ]
  },
  {
   "cell_type": "code",
   "execution_count": 46,
   "id": "1b079194-5e78-4d9e-b5e3-dc484ec74e0e",
   "metadata": {},
   "outputs": [
    {
     "data": {
      "text/plain": [
       "<AxesSubplot:>"
      ]
     },
     "execution_count": 46,
     "metadata": {},
     "output_type": "execute_result"
    },
    {
     "data": {
      "image/png": "[encoded data removed]",
      "text/plain": [
       "<Figure size 432x288 with 2 Axes>"
      ]
     },
     "metadata": {},
     "output_type": "display_data"
    }
   ],
   "source": [
    "cor3 = macro_dataset.corr()\n",
    "sns.heatmap(cor3, xticklabels = cor3.columns, yticklabels=cor3.columns)"
   ]
  },
  {
   "cell_type": "markdown",
   "id": "8736f5ff-942b-4c45-967d-c4489385fd95",
   "metadata": {},
   "source": [
    "Como podemos osbservar no tenemos una correlación lo suficientemente fuerte como para considerarlo un problema. por lo cual podemos seguir adelante con nuestro proceso y empezar con un preprocesamiento de datos"
   ]
  },
  {
   "cell_type": "markdown",
   "id": "fe0dbe09-d0a8-44ae-ba7e-b4d4d7a6abfa",
   "metadata": {},
   "source": [
    "# Resumen Exploración de datos (Creación de Datasets)"
   ]
  },
  {
   "cell_type": "markdown",
   "id": "e4bf78b4-f7e6-403e-b7d9-9d4481bdb810",
   "metadata": {},
   "source": [
    "Como resumen creamos dos datasets con los cuales vamos a trabajar los cuales son los siguientes "
   ]
  },
  {
   "cell_type": "code",
   "execution_count": 47,
   "id": "e9af04a1-716d-466a-a41e-5b219a6724b7",
   "metadata": {},
   "outputs": [
    {
     "data": {
      "text/html": [
       "<div>\n",
       "<style scoped>\n",
       "    .dataframe tbody tr th:only-of-type {\n",
       "        vertical-align: middle;\n",
       "    }\n",
       "\n",
       "    .dataframe tbody tr th {\n",
       "        vertical-align: top;\n",
       "    }\n",
       "\n",
       "    .dataframe thead th {\n",
       "        text-align: right;\n",
       "    }\n",
       "</style>\n",
       "<table border=\"1\" class=\"dataframe\">\n",
       "  <thead>\n",
       "    <tr style=\"text-align: right;\">\n",
       "      <th></th>\n",
       "      <th>blueWins</th>\n",
       "      <th>blueFirstBlood</th>\n",
       "      <th>blueKills</th>\n",
       "      <th>blueAssist</th>\n",
       "      <th>blueKillingSpree</th>\n",
       "      <th>redKills</th>\n",
       "      <th>redAssist</th>\n",
       "      <th>redKillingSpree</th>\n",
       "    </tr>\n",
       "  </thead>\n",
       "  <tbody>\n",
       "    <tr>\n",
       "      <th>0</th>\n",
       "      <td>0</td>\n",
       "      <td>1</td>\n",
       "      <td>7</td>\n",
       "      <td>13</td>\n",
       "      <td>2</td>\n",
       "      <td>19</td>\n",
       "      <td>45</td>\n",
       "      <td>4</td>\n",
       "    </tr>\n",
       "    <tr>\n",
       "      <th>1</th>\n",
       "      <td>0</td>\n",
       "      <td>0</td>\n",
       "      <td>6</td>\n",
       "      <td>9</td>\n",
       "      <td>1</td>\n",
       "      <td>22</td>\n",
       "      <td>43</td>\n",
       "      <td>4</td>\n",
       "    </tr>\n",
       "    <tr>\n",
       "      <th>2</th>\n",
       "      <td>1</td>\n",
       "      <td>0</td>\n",
       "      <td>30</td>\n",
       "      <td>61</td>\n",
       "      <td>7</td>\n",
       "      <td>13</td>\n",
       "      <td>22</td>\n",
       "      <td>2</td>\n",
       "    </tr>\n",
       "    <tr>\n",
       "      <th>3</th>\n",
       "      <td>1</td>\n",
       "      <td>1</td>\n",
       "      <td>26</td>\n",
       "      <td>34</td>\n",
       "      <td>6</td>\n",
       "      <td>3</td>\n",
       "      <td>5</td>\n",
       "      <td>1</td>\n",
       "    </tr>\n",
       "    <tr>\n",
       "      <th>4</th>\n",
       "      <td>0</td>\n",
       "      <td>1</td>\n",
       "      <td>19</td>\n",
       "      <td>22</td>\n",
       "      <td>5</td>\n",
       "      <td>23</td>\n",
       "      <td>39</td>\n",
       "      <td>7</td>\n",
       "    </tr>\n",
       "  </tbody>\n",
       "</table>\n",
       "</div>"
      ],
      "text/plain": [
       "   blueWins  blueFirstBlood  blueKills  blueAssist  blueKillingSpree  \\\n",
       "0         0               1          7          13                 2   \n",
       "1         0               0          6           9                 1   \n",
       "2         1               0         30          61                 7   \n",
       "3         1               1         26          34                 6   \n",
       "4         0               1         19          22                 5   \n",
       "\n",
       "   redKills  redAssist  redKillingSpree  \n",
       "0        19         45                4  \n",
       "1        22         43                4  \n",
       "2        13         22                2  \n",
       "3         3          5                1  \n",
       "4        23         39                7  "
      ]
     },
     "execution_count": 47,
     "metadata": {},
     "output_type": "execute_result"
    }
   ],
   "source": [
    "micro_ds_final.head()"
   ]
  },
  {
   "cell_type": "code",
   "execution_count": 48,
   "id": "715d8a0c-dac9-4114-91fc-d15f29939734",
   "metadata": {},
   "outputs": [
    {
     "data": {
      "text/plain": [
       "(98947, 8)"
      ]
     },
     "execution_count": 48,
     "metadata": {},
     "output_type": "execute_result"
    }
   ],
   "source": [
    "micro_ds_final.shape"
   ]
  },
  {
   "cell_type": "code",
   "execution_count": 49,
   "id": "a033d96c-6cef-45c4-adf9-5f3d500d7962",
   "metadata": {},
   "outputs": [
    {
     "data": {
      "text/html": [
       "<div>\n",
       "<style scoped>\n",
       "    .dataframe tbody tr th:only-of-type {\n",
       "        vertical-align: middle;\n",
       "    }\n",
       "\n",
       "    .dataframe tbody tr th {\n",
       "        vertical-align: top;\n",
       "    }\n",
       "\n",
       "    .dataframe thead th {\n",
       "        text-align: right;\n",
       "    }\n",
       "</style>\n",
       "<table border=\"1\" class=\"dataframe\">\n",
       "  <thead>\n",
       "    <tr style=\"text-align: right;\">\n",
       "      <th></th>\n",
       "      <th>blueWins</th>\n",
       "      <th>blueDragonKills</th>\n",
       "      <th>blueBaronKills</th>\n",
       "      <th>blueInhibitorKills</th>\n",
       "      <th>blueTotalMinionKills</th>\n",
       "      <th>redDragonKills</th>\n",
       "      <th>redBaronKills</th>\n",
       "      <th>redInhibitorKills</th>\n",
       "      <th>redTotalMinionKills</th>\n",
       "    </tr>\n",
       "  </thead>\n",
       "  <tbody>\n",
       "    <tr>\n",
       "      <th>0</th>\n",
       "      <td>0</td>\n",
       "      <td>0</td>\n",
       "      <td>0</td>\n",
       "      <td>0</td>\n",
       "      <td>646</td>\n",
       "      <td>3</td>\n",
       "      <td>0</td>\n",
       "      <td>0</td>\n",
       "      <td>609</td>\n",
       "    </tr>\n",
       "    <tr>\n",
       "      <th>1</th>\n",
       "      <td>0</td>\n",
       "      <td>0</td>\n",
       "      <td>0</td>\n",
       "      <td>0</td>\n",
       "      <td>563</td>\n",
       "      <td>2</td>\n",
       "      <td>0</td>\n",
       "      <td>0</td>\n",
       "      <td>510</td>\n",
       "    </tr>\n",
       "    <tr>\n",
       "      <th>2</th>\n",
       "      <td>1</td>\n",
       "      <td>1</td>\n",
       "      <td>1</td>\n",
       "      <td>2</td>\n",
       "      <td>651</td>\n",
       "      <td>2</td>\n",
       "      <td>0</td>\n",
       "      <td>0</td>\n",
       "      <td>630</td>\n",
       "    </tr>\n",
       "    <tr>\n",
       "      <th>3</th>\n",
       "      <td>1</td>\n",
       "      <td>2</td>\n",
       "      <td>0</td>\n",
       "      <td>0</td>\n",
       "      <td>402</td>\n",
       "      <td>0</td>\n",
       "      <td>0</td>\n",
       "      <td>0</td>\n",
       "      <td>304</td>\n",
       "    </tr>\n",
       "    <tr>\n",
       "      <th>4</th>\n",
       "      <td>0</td>\n",
       "      <td>2</td>\n",
       "      <td>0</td>\n",
       "      <td>0</td>\n",
       "      <td>528</td>\n",
       "      <td>1</td>\n",
       "      <td>0</td>\n",
       "      <td>0</td>\n",
       "      <td>565</td>\n",
       "    </tr>\n",
       "  </tbody>\n",
       "</table>\n",
       "</div>"
      ],
      "text/plain": [
       "   blueWins  blueDragonKills  blueBaronKills  blueInhibitorKills  \\\n",
       "0         0                0               0                   0   \n",
       "1         0                0               0                   0   \n",
       "2         1                1               1                   2   \n",
       "3         1                2               0                   0   \n",
       "4         0                2               0                   0   \n",
       "\n",
       "   blueTotalMinionKills  redDragonKills  redBaronKills  redInhibitorKills  \\\n",
       "0                   646               3              0                  0   \n",
       "1                   563               2              0                  0   \n",
       "2                   651               2              0                  0   \n",
       "3                   402               0              0                  0   \n",
       "4                   528               1              0                  0   \n",
       "\n",
       "   redTotalMinionKills  \n",
       "0                  609  \n",
       "1                  510  \n",
       "2                  630  \n",
       "3                  304  \n",
       "4                  565  "
      ]
     },
     "execution_count": 49,
     "metadata": {},
     "output_type": "execute_result"
    }
   ],
   "source": [
    "macro_dataset.head()"
   ]
  },
  {
   "cell_type": "code",
   "execution_count": 50,
   "id": "37a0233d-0903-496d-a8a5-b8fc708da05c",
   "metadata": {},
   "outputs": [
    {
     "data": {
      "text/plain": [
       "(98947, 9)"
      ]
     },
     "execution_count": 50,
     "metadata": {},
     "output_type": "execute_result"
    }
   ],
   "source": [
    "macro_dataset.shape"
   ]
  },
  {
   "cell_type": "markdown",
   "id": "1568f446-ffba-4865-82d4-6a60af1a90bf",
   "metadata": {},
   "source": [
    "# Creación de Red Neuronal Para Micro game Dataset"
   ]
  },
  {
   "cell_type": "markdown",
   "id": "6653c821-6973-4758-9a6e-0fa2aaa2474b",
   "metadata": {},
   "source": [
    "Ahora que tenemos nuestra primer acercamiento tenemos que definir nuestro modelo para esto debemos de tener separados nuestros data set dentro de X y Y para definir los batches de la primera capa de la capa"
   ]
  },
  {
   "cell_type": "code",
   "execution_count": 51,
   "id": "4d1b9116-cd47-4fcc-a0cb-09a0c399a52a",
   "metadata": {},
   "outputs": [],
   "source": [
    "x_micro = micro_ds_final.drop(['blueWins'], axis = 1)\n",
    "y_micro = micro_ds_final['blueWins']"
   ]
  },
  {
   "cell_type": "code",
   "execution_count": 52,
   "id": "a1979246-d992-40ce-8d03-eb3e42c0b340",
   "metadata": {},
   "outputs": [
    {
     "name": "stdout",
     "output_type": "stream",
     "text": [
      "(98947, 7) (98947,)\n"
     ]
    }
   ],
   "source": [
    "print(x_micro.shape, y_micro.shape)"
   ]
  },
  {
   "cell_type": "code",
   "execution_count": 53,
   "id": "030d302e-2526-48d4-b71c-a51096507732",
   "metadata": {},
   "outputs": [],
   "source": [
    "x_train, x_test, y_train, y_test = train_test_split(x_micro, y_micro, test_size=0.30, random_state=42)"
   ]
  },
  {
   "cell_type": "markdown",
   "id": "5ebc24f3-3d6e-4d34-b4d0-7dff70ac2eaf",
   "metadata": {},
   "source": [
    "Ahora ya los tenemos separados por lo cual podemos emepezar a definir caracteristicas más profundas de nuestra red neuronal"
   ]
  },
  {
   "cell_type": "markdown",
   "id": "3c29b1f5-91b9-4763-908d-678498a92297",
   "metadata": {},
   "source": [
    "Para este proceso vamos a usar el metodo secuencial, el cual sirve para poder agregar poco a pococ capas hasta que estemos satisfechos con el resultado"
   ]
  },
  {
   "cell_type": "markdown",
   "id": "a7f54f63-3a47-4cb7-89e4-c99c97ad7d7c",
   "metadata": {},
   "source": [
    "Para nuestro modelo estamos tratando de definir nuestra variable como una Boleeana, para esto crearemos una red que tenga dos funciones de activación: Relu y Sigmoide que entraremos a detelle más adelante. \n",
    "Recordemos que tenemos input variables de 7 por lo cual es un argumento que tenemos que especificar en nuestro codigo"
   ]
  },
  {
   "cell_type": "code",
   "execution_count": 54,
   "id": "45a396b0-74f1-4df2-8d26-3b0f9e6ac1cc",
   "metadata": {},
   "outputs": [],
   "source": [
    "model = Sequential()\n",
    "model.add(Dense(7, input_dim=7, activation='relu'))\n",
    "model.add(Dense(3, activation='relu'))\n",
    "model.add(Dense(1, activation='sigmoid'))"
   ]
  },
  {
   "cell_type": "markdown",
   "id": "a5fc4548-2cfb-4bad-9ebe-00b07bd1c70d",
   "metadata": {},
   "source": [
    "Para este proceso creemos que por ahora no necestaremos más que una capa de salida que entrada con la función de activación relu con 7 nodos, ya que tenemos 7 columnas y la capa escondida va tener la función de activación Relu nuevamente para que el output es 1 solo nodo que nos devuelva un valor entre 0 y 1 por eso usamos la función de activación sigmoide"
   ]
  },
  {
   "cell_type": "markdown",
   "id": "76a37645-fbd9-461f-bcc9-7d999985f1dc",
   "metadata": {},
   "source": [
    "## Explicando Función de Relu"
   ]
  },
  {
   "attachments": {
    "2d5b8294-c82d-4f8f-b865-055957584df5.png": {
     "image/png": "[encoded data removed]"
    }
   },
   "cell_type": "markdown",
   "id": "02bcd648-402a-4fe2-8fbd-33097fe54ea7",
   "metadata": {},
   "source": [
    "![Relu.png](attachment:2d5b8294-c82d-4f8f-b865-055957584df5.png)"
   ]
  },
  {
   "cell_type": "markdown",
   "id": "a66c28be-bf72-4e15-8e0f-458581f957cb",
   "metadata": {},
   "source": [
    "La función Relu lo que realiza esque toma los resultados de las operaciones de la red nueronal y hace una comparación. Por ejemplo, si el resultado de nuestra multiplicación es -0.1 Relu lo toma y le asigna un 0. Esto sera totalemente útil para nuestra red neuronal ya que estamos tratando de hacer predicción de 0's y 1's "
   ]
  },
  {
   "cell_type": "markdown",
   "id": "61b251c3-1864-4101-bbab-e478a4a19418",
   "metadata": {},
   "source": [
    "# Explicando Función de Sigmoide"
   ]
  },
  {
   "attachments": {
    "205e6a61-77fc-49a3-843a-d8c7067ab1e3.png": {
     "image/png": "[encoded data removed]"
    }
   },
   "cell_type": "markdown",
   "id": "ce7baa6d-d3f3-4d26-9ad4-5cbaf5746791",
   "metadata": {},
   "source": [
    "![sigmoide.png](attachment:205e6a61-77fc-49a3-843a-d8c7067ab1e3.png)"
   ]
  },
  {
   "cell_type": "markdown",
   "id": "6cb0eced-9d95-4383-a506-c6610d6a9aee",
   "metadata": {},
   "source": [
    "Esta es nuestra función de Sigmoide, que lo que trata de hacer es lograr hacer una linea de valores entre 0 y 1. Lo cual es justo lo que necesitamos como output. Ahora a esta se le puede indicar un treshold que en este caso usaramos 0.50 (default) por conveniencia"
   ]
  },
  {
   "cell_type": "markdown",
   "id": "ac928fed-f82b-4705-a0ee-f0a259751707",
   "metadata": {},
   "source": [
    "## Definiendo Nuestra función de costo"
   ]
  },
  {
   "cell_type": "markdown",
   "id": "2dc7c4da-9620-49a2-a94c-8fa1fd90eb72",
   "metadata": {},
   "source": [
    "Este proceso no queda aca, recordamos que necesitamos evaluar el funcionamiento de nuestra red nueronal con una función de costo. En este caso como estamos en un problema de una variable booleana usaremos el método de Binary Cross-Entropy"
   ]
  },
  {
   "attachments": {
    "ee61333b-642f-4a86-9585-ba8cb59802e7.png": {
     "image/png": "[encoded data removed]"
    }
   },
   "cell_type": "markdown",
   "id": "53a5ae22-64eb-4dd4-a9dc-3d5c931cea80",
   "metadata": {},
   "source": [
    "![HlYNr.png](attachment:ee61333b-642f-4a86-9585-ba8cb59802e7.png)"
   ]
  },
  {
   "cell_type": "markdown",
   "id": "3abd3ca3-8758-4135-896b-aefa07bd8deb",
   "metadata": {},
   "source": [
    "La función de Cross entropy lo que va hacer es calcular un puntaje que sea un \"resumen\" de la diferencia promedio entre lo que paso y lo que predijimos de la probablidad de predecir clase 1. Se minimiza el erro cuando es cercano a 0."
   ]
  },
  {
   "cell_type": "code",
   "execution_count": 55,
   "id": "776a842e-a0f9-4b0c-a180-2b47ea70b8a9",
   "metadata": {},
   "outputs": [],
   "source": [
    "model.compile(loss='binary_crossentropy', optimizer='adam', metrics=['accuracy'])"
   ]
  },
  {
   "cell_type": "markdown",
   "id": "fa700ed6-7c40-456f-8b3e-0e4f2b74f2f6",
   "metadata": {},
   "source": [
    "Como función de optimización vamos a usar Adam y para que nos devuelva las metricas vamos a valuarlo con el método de accuracy para poder evaluar nuestros modelo y comprobar nuestr hipótesis"
   ]
  },
  {
   "cell_type": "markdown",
   "id": "0d14d9f9-42b7-4cac-8744-4f565e40eb31",
   "metadata": {},
   "source": [
    "# Entrenando nuestra red neuronal para Micro"
   ]
  },
  {
   "cell_type": "markdown",
   "id": "c065ac69-e11e-467e-b6ad-adf43415ff0e",
   "metadata": {},
   "source": [
    "Para entrenar nuestra red neuronal debemos de tener en cuenta dos cosas los epochs son el numero de veces que el algoritmo va trabajar durante el dataset. \n",
    "Mientras que el batch size es el numero que define con el numero de observaciones a trabajar antes de pasar al siguiente nodo"
   ]
  },
  {
   "cell_type": "code",
   "execution_count": 69,
   "id": "46e2955b-c824-4aa8-9280-f7a5dc05249b",
   "metadata": {},
   "outputs": [
    {
     "name": "stdout",
     "output_type": "stream",
     "text": [
      "Epoch 1/50\n",
      "6927/6927 [==============================] - 13s 2ms/step - loss: 0.1405 - accuracy: 0.9423\n",
      "Epoch 2/50\n",
      "6927/6927 [==============================] - 11s 2ms/step - loss: 0.1407 - accuracy: 0.9420\n",
      "Epoch 3/50\n",
      "6927/6927 [==============================] - 13s 2ms/step - loss: 0.1399 - accuracy: 0.9427\n",
      "Epoch 4/50\n",
      "6927/6927 [==============================] - 9s 1ms/step - loss: 0.1403 - accuracy: 0.9425\n",
      "Epoch 5/50\n",
      "6927/6927 [==============================] - 9s 1ms/step - loss: 0.1403 - accuracy: 0.9429\n",
      "Epoch 6/50\n",
      "6927/6927 [==============================] - 13s 2ms/step - loss: 0.1401 - accuracy: 0.9427\n",
      "Epoch 7/50\n",
      "6927/6927 [==============================] - 11s 2ms/step - loss: 0.1400 - accuracy: 0.9427\n",
      "Epoch 8/50\n",
      "6927/6927 [==============================] - 10s 1ms/step - loss: 0.1399 - accuracy: 0.9427\n",
      "Epoch 9/50\n",
      "6927/6927 [==============================] - 15s 2ms/step - loss: 0.1400 - accuracy: 0.9428 0s - loss: 0.1\n",
      "Epoch 10/50\n",
      "6927/6927 [==============================] - 12s 2ms/step - loss: 0.1399 - accuracy: 0.9430\n",
      "Epoch 11/50\n",
      "6927/6927 [==============================] - 10s 1ms/step - loss: 0.1402 - accuracy: 0.9431\n",
      "Epoch 12/50\n",
      "6927/6927 [==============================] - 9s 1ms/step - loss: 0.1397 - accuracy: 0.9430\n",
      "Epoch 13/50\n",
      "6927/6927 [==============================] - 9s 1ms/step - loss: 0.1399 - accuracy: 0.9431\n",
      "Epoch 14/50\n",
      "6927/6927 [==============================] - 8s 1ms/step - loss: 0.1400 - accuracy: 0.9428\n",
      "Epoch 15/50\n",
      "6927/6927 [==============================] - 8s 1ms/step - loss: 0.1399 - accuracy: 0.9426\n",
      "Epoch 16/50\n",
      "6927/6927 [==============================] - 8s 1ms/step - loss: 0.1393 - accuracy: 0.9432\n",
      "Epoch 17/50\n",
      "6927/6927 [==============================] - 8s 1ms/step - loss: 0.1393 - accuracy: 0.9441\n",
      "Epoch 18/50\n",
      "6927/6927 [==============================] - 8s 1ms/step - loss: 0.1397 - accuracy: 0.9433\n",
      "Epoch 19/50\n",
      "6927/6927 [==============================] - 8s 1ms/step - loss: 0.1402 - accuracy: 0.9421\n",
      "Epoch 20/50\n",
      "6927/6927 [==============================] - 8s 1ms/step - loss: 0.1397 - accuracy: 0.9430\n",
      "Epoch 21/50\n",
      "6927/6927 [==============================] - 8s 1ms/step - loss: 0.1399 - accuracy: 0.9431\n",
      "Epoch 22/50\n",
      "6927/6927 [==============================] - 9s 1ms/step - loss: 0.1397 - accuracy: 0.9428\n",
      "Epoch 23/50\n",
      "6927/6927 [==============================] - 9s 1ms/step - loss: 0.1396 - accuracy: 0.9431\n",
      "Epoch 24/50\n",
      "6927/6927 [==============================] - 12s 2ms/step - loss: 0.1396 - accuracy: 0.9431\n",
      "Epoch 25/50\n",
      "6927/6927 [==============================] - 29s 4ms/step - loss: 0.1396 - accuracy: 0.9436\n",
      "Epoch 26/50\n",
      "6927/6927 [==============================] - 43s 6ms/step - loss: 0.1392 - accuracy: 0.9435 1s - loss: 0.1\n",
      "Epoch 27/50\n",
      "6927/6927 [==============================] - 19s 3ms/step - loss: 0.1390 - accuracy: 0.9432\n",
      "Epoch 28/50\n",
      "6927/6927 [==============================] - 30s 4ms/step - loss: 0.1393 - accuracy: 0.9434\n",
      "Epoch 29/50\n",
      "6927/6927 [==============================] - 11s 2ms/step - loss: 0.1391 - accuracy: 0.9436\n",
      "Epoch 30/50\n",
      "6927/6927 [==============================] - 10s 1ms/step - loss: 0.1389 - accuracy: 0.9432\n",
      "Epoch 31/50\n",
      "6927/6927 [==============================] - 10s 1ms/step - loss: 0.1394 - accuracy: 0.9433\n",
      "Epoch 32/50\n",
      "6927/6927 [==============================] - 10s 1ms/step - loss: 0.1392 - accuracy: 0.9433\n",
      "Epoch 33/50\n",
      "6927/6927 [==============================] - 9s 1ms/step - loss: 0.1391 - accuracy: 0.9432\n",
      "Epoch 34/50\n",
      "6927/6927 [==============================] - 9s 1ms/step - loss: 0.1388 - accuracy: 0.9430\n",
      "Epoch 35/50\n",
      "6927/6927 [==============================] - 9s 1ms/step - loss: 0.1392 - accuracy: 0.9435\n",
      "Epoch 36/50\n",
      "6927/6927 [==============================] - 9s 1ms/step - loss: 0.1390 - accuracy: 0.9431\n",
      "Epoch 37/50\n",
      "6927/6927 [==============================] - 9s 1ms/step - loss: 0.1390 - accuracy: 0.9435\n",
      "Epoch 38/50\n",
      "6927/6927 [==============================] - 9s 1ms/step - loss: 0.1388 - accuracy: 0.9434\n",
      "Epoch 39/50\n",
      "6927/6927 [==============================] - 9s 1ms/step - loss: 0.1388 - accuracy: 0.9439\n",
      "Epoch 40/50\n",
      "6927/6927 [==============================] - 9s 1ms/step - loss: 0.1389 - accuracy: 0.9440\n",
      "Epoch 41/50\n",
      "6927/6927 [==============================] - 9s 1ms/step - loss: 0.1387 - accuracy: 0.9439\n",
      "Epoch 42/50\n",
      "6927/6927 [==============================] - 8s 1ms/step - loss: 0.1390 - accuracy: 0.9434\n",
      "Epoch 43/50\n",
      "6927/6927 [==============================] - 8s 1ms/step - loss: 0.1386 - accuracy: 0.9434\n",
      "Epoch 44/50\n",
      "6927/6927 [==============================] - 8s 1ms/step - loss: 0.1388 - accuracy: 0.9437\n",
      "Epoch 45/50\n",
      "6927/6927 [==============================] - 12s 2ms/step - loss: 0.1385 - accuracy: 0.9434\n",
      "Epoch 46/50\n",
      "6927/6927 [==============================] - 28s 4ms/step - loss: 0.1386 - accuracy: 0.9434\n",
      "Epoch 47/50\n",
      "6927/6927 [==============================] - 18s 3ms/step - loss: 0.1386 - accuracy: 0.9434\n",
      "Epoch 48/50\n",
      "6927/6927 [==============================] - 9s 1ms/step - loss: 0.1385 - accuracy: 0.9439\n",
      "Epoch 49/50\n",
      "6927/6927 [==============================] - 9s 1ms/step - loss: 0.1385 - accuracy: 0.9431\n",
      "Epoch 50/50\n",
      "6927/6927 [==============================] - 10s 1ms/step - loss: 0.1387 - accuracy: 0.9429\n"
     ]
    },
    {
     "data": {
      "text/plain": [
       "<keras.callbacks.History at 0x15a7ec710>"
      ]
     },
     "execution_count": 69,
     "metadata": {},
     "output_type": "execute_result"
    }
   ],
   "source": [
    "model.fit(x_train, y_train, epochs=50, batch_size=10)"
   ]
  },
  {
   "cell_type": "markdown",
   "id": "1f875723-10b3-4869-a5cf-522d656f27c0",
   "metadata": {},
   "source": [
    "Con este modelo en la ultima iteración que se realizo se tuvo un loss de 0.1387 y un accuaracy de 0.9429. Esto es bastante bueno, ya que es un buen modelo que logro ajustarse bien con la data de entrenamiento. Ahora haremos algunas predicción para ver como funciona con datos externos"
   ]
  },
  {
   "cell_type": "code",
   "execution_count": 70,
   "id": "de793a7b-4d2c-43d1-ae4a-03e818a1b81f",
   "metadata": {
    "tags": []
   },
   "outputs": [],
   "source": [
    "predictions_microwins = model.predict_classes(x_test)"
   ]
  },
  {
   "cell_type": "code",
   "execution_count": 71,
   "id": "1e014a2c-36bf-4992-aaf1-d20e37d62222",
   "metadata": {},
   "outputs": [],
   "source": [
    "predictions_micro = DataFrame(predictions_microwins)\n",
    "y_test_frame = DataFrame(y_test)"
   ]
  },
  {
   "cell_type": "code",
   "execution_count": 72,
   "id": "15f86e2e-88c7-4399-b997-2ab24b240a72",
   "metadata": {},
   "outputs": [],
   "source": [
    "predictions_micro_renamed = predictions_micro.rename(columns = {0: 'blueWins'}, inplace = False)"
   ]
  },
  {
   "cell_type": "code",
   "execution_count": 73,
   "id": "eafbdf02-f7e0-49ea-9f15-a50b90914a8e",
   "metadata": {},
   "outputs": [
    {
     "data": {
      "text/plain": [
       "0    15216\n",
       "1    14469\n",
       "Name: blueWins, dtype: int64"
      ]
     },
     "execution_count": 73,
     "metadata": {},
     "output_type": "execute_result"
    }
   ],
   "source": [
    "predictions_micro_renamed.blueWins.value_counts()"
   ]
  },
  {
   "cell_type": "code",
   "execution_count": 74,
   "id": "9a2069b2-6290-4ac5-acae-1272cb1e56a3",
   "metadata": {},
   "outputs": [
    {
     "data": {
      "text/plain": [
       "0    14990\n",
       "1    14695\n",
       "Name: blueWins, dtype: int64"
      ]
     },
     "execution_count": 74,
     "metadata": {},
     "output_type": "execute_result"
    }
   ],
   "source": [
    "y_test_frame.blueWins.value_counts()"
   ]
  },
  {
   "cell_type": "code",
   "execution_count": 75,
   "id": "0e56b3e1-ee04-4323-8d56-84fb681ec9ae",
   "metadata": {},
   "outputs": [
    {
     "data": {
      "text/plain": [
       "0.9462355"
      ]
     },
     "execution_count": 75,
     "metadata": {},
     "output_type": "execute_result"
    }
   ],
   "source": [
    "acuaracy_micro = tf.keras.metrics.Accuracy()\n",
    "acuaracy_micro.update_state(y_test, predictions_microwins)\n",
    "acuaracy_micro.result().numpy()"
   ]
  },
  {
   "cell_type": "markdown",
   "id": "adc74f45-eb2f-4f2f-b709-6e69b3e3091a",
   "metadata": {},
   "source": [
    "Ya cuando nuestros datos de prueba logramos tener un accuaracy del 94.62% lo cual es un excelente numero. Ahora que nos esta diciendo esto en el contexto del problema"
   ]
  },
  {
   "cell_type": "markdown",
   "id": "047d3f35-8d53-4955-9e81-a5dd25496e99",
   "metadata": {},
   "source": [
    "Dentro del contexto del problema nos esta diciendo que en un 94.62% aproximadamente los factores micro grame logran predecir de buena manera que equipo ganó la partida. Ahora haremos el mismo proceso anteriormente solo que con los factores de macro game y sin tanta explicación tan detallada ya que sera muy similar"
   ]
  },
  {
   "cell_type": "markdown",
   "id": "c0a8b419-bb5e-4417-bb0a-7823eddf9449",
   "metadata": {},
   "source": [
    "# Creación de Red Neuronal para Macro Game"
   ]
  },
  {
   "cell_type": "code",
   "execution_count": 76,
   "id": "3c69dfca-149b-471b-930a-b4883d670620",
   "metadata": {},
   "outputs": [],
   "source": [
    "x_macro = macro_dataset.drop(['blueWins'], axis = 1)\n",
    "y_macro = macro_dataset['blueWins']"
   ]
  },
  {
   "cell_type": "code",
   "execution_count": 77,
   "id": "e3ec2717-1f49-42d8-b674-ac250c86e9c0",
   "metadata": {},
   "outputs": [
    {
     "name": "stdout",
     "output_type": "stream",
     "text": [
      "(98947, 8) (98947,)\n"
     ]
    }
   ],
   "source": [
    "print(x_macro.shape, y_macro.shape)"
   ]
  },
  {
   "cell_type": "markdown",
   "id": "017003e9-3d5e-440d-8c1a-5ae9d58b7a44",
   "metadata": {},
   "source": [
    "Ahora tenemos la diferencia de que nuestra variable de input tiene 8 features, por lo cual debemos de modificar esto para que nuestra red entienda este proceso, por el contrario seguiremos usando el mismo modelo"
   ]
  },
  {
   "cell_type": "code",
   "execution_count": 78,
   "id": "c1c17237-8496-4598-8aed-8f8cf9d6ce31",
   "metadata": {},
   "outputs": [],
   "source": [
    "x_trainm, x_testm, y_trainm, y_testm = train_test_split(x_macro, y_macro, test_size=0.30, random_state=42)"
   ]
  },
  {
   "cell_type": "code",
   "execution_count": 79,
   "id": "4a0eff15-a22b-4f96-aa54-6524589f0fff",
   "metadata": {},
   "outputs": [],
   "source": [
    "model2 = Sequential()\n",
    "model2.add(Dense(8, input_dim=8, activation='relu'))\n",
    "model2.add(Dense(4, activation='relu'))\n",
    "model2.add(Dense(1, activation='sigmoid'))"
   ]
  },
  {
   "cell_type": "code",
   "execution_count": 80,
   "id": "b0417a24-b077-4bcf-8243-7aad68c1a900",
   "metadata": {},
   "outputs": [],
   "source": [
    "model2.compile(loss='binary_crossentropy', optimizer='adam', metrics=['accuracy'])"
   ]
  },
  {
   "cell_type": "markdown",
   "id": "fe75dd72-a5e0-44f5-ac54-da4aac1965ae",
   "metadata": {},
   "source": [
    "Como nos podemos dar cuenta nuestro modelo esta siendo armado de la misma manera con las mismas metricas solamente adaptandonos a nuestros nuevos datos"
   ]
  },
  {
   "cell_type": "markdown",
   "id": "85a9faf5-9ff3-4e18-8eda-c2e1197007d2",
   "metadata": {},
   "source": [
    "## Entrenando nuestra red neuronal para Macro Game"
   ]
  },
  {
   "cell_type": "code",
   "execution_count": 81,
   "id": "d75c08db-2d9b-4e67-9ff2-77a667f7bc55",
   "metadata": {},
   "outputs": [
    {
     "name": "stdout",
     "output_type": "stream",
     "text": [
      "Epoch 1/50\n",
      "6927/6927 [==============================] - 10s 1ms/step - loss: 3.9044 - accuracy: 0.6973\n",
      "Epoch 2/50\n",
      "6927/6927 [==============================] - 9s 1ms/step - loss: 0.2148 - accuracy: 0.9266\n",
      "Epoch 3/50\n",
      "6927/6927 [==============================] - 9s 1ms/step - loss: 0.1717 - accuracy: 0.9395\n",
      "Epoch 4/50\n",
      "6927/6927 [==============================] - 9s 1ms/step - loss: 0.1653 - accuracy: 0.9419\n",
      "Epoch 5/50\n",
      "6927/6927 [==============================] - 9s 1ms/step - loss: 0.1625 - accuracy: 0.9407\n",
      "Epoch 6/50\n",
      "6927/6927 [==============================] - 9s 1ms/step - loss: 0.1625 - accuracy: 0.9424\n",
      "Epoch 7/50\n",
      "6927/6927 [==============================] - 9s 1ms/step - loss: 0.1578 - accuracy: 0.9428\n",
      "Epoch 8/50\n",
      "6927/6927 [==============================] - 9s 1ms/step - loss: 0.1573 - accuracy: 0.9442\n",
      "Epoch 9/50\n",
      "6927/6927 [==============================] - 9s 1ms/step - loss: 0.1578 - accuracy: 0.9436\n",
      "Epoch 10/50\n",
      "6927/6927 [==============================] - 9s 1ms/step - loss: 0.1565 - accuracy: 0.9443\n",
      "Epoch 11/50\n",
      "6927/6927 [==============================] - 9s 1ms/step - loss: 0.1586 - accuracy: 0.9422: 0s - loss: 0.1587 \n",
      "Epoch 12/50\n",
      "6927/6927 [==============================] - 8s 1ms/step - loss: 0.1541 - accuracy: 0.9451\n",
      "Epoch 13/50\n",
      "6927/6927 [==============================] - 9s 1ms/step - loss: 0.1568 - accuracy: 0.9443\n",
      "Epoch 14/50\n",
      "6927/6927 [==============================] - 8s 1ms/step - loss: 0.1557 - accuracy: 0.9440\n",
      "Epoch 15/50\n",
      "6927/6927 [==============================] - 9s 1ms/step - loss: 0.1557 - accuracy: 0.9433\n",
      "Epoch 16/50\n",
      "6927/6927 [==============================] - 8s 1ms/step - loss: 0.1550 - accuracy: 0.9449\n",
      "Epoch 17/50\n",
      "6927/6927 [==============================] - 9s 1ms/step - loss: 0.1548 - accuracy: 0.9448\n",
      "Epoch 18/50\n",
      "6927/6927 [==============================] - 9s 1ms/step - loss: 0.1523 - accuracy: 0.9448\n",
      "Epoch 19/50\n",
      "6927/6927 [==============================] - 9s 1ms/step - loss: 0.1547 - accuracy: 0.9445\n",
      "Epoch 20/50\n",
      "6927/6927 [==============================] - 9s 1ms/step - loss: 0.1488 - accuracy: 0.9472\n",
      "Epoch 21/50\n",
      "6927/6927 [==============================] - 9s 1ms/step - loss: 0.1522 - accuracy: 0.9450\n",
      "Epoch 22/50\n",
      "6927/6927 [==============================] - 9s 1ms/step - loss: 0.1527 - accuracy: 0.9460\n",
      "Epoch 23/50\n",
      "6927/6927 [==============================] - 9s 1ms/step - loss: 0.1489 - accuracy: 0.9468\n",
      "Epoch 24/50\n",
      "6927/6927 [==============================] - 9s 1ms/step - loss: 0.1526 - accuracy: 0.9458\n",
      "Epoch 25/50\n",
      "6927/6927 [==============================] - 9s 1ms/step - loss: 0.1461 - accuracy: 0.9483\n",
      "Epoch 26/50\n",
      "6927/6927 [==============================] - 9s 1ms/step - loss: 0.1471 - accuracy: 0.9459\n",
      "Epoch 27/50\n",
      "6927/6927 [==============================] - 9s 1ms/step - loss: 0.1532 - accuracy: 0.9451\n",
      "Epoch 28/50\n",
      "6927/6927 [==============================] - 9s 1ms/step - loss: 0.1474 - accuracy: 0.9481\n",
      "Epoch 29/50\n",
      "6927/6927 [==============================] - 9s 1ms/step - loss: 0.1427 - accuracy: 0.9491\n",
      "Epoch 30/50\n",
      "6927/6927 [==============================] - 9s 1ms/step - loss: 0.1434 - accuracy: 0.9483\n",
      "Epoch 31/50\n",
      "6927/6927 [==============================] - 8s 1ms/step - loss: 0.1423 - accuracy: 0.9483\n",
      "Epoch 32/50\n",
      "6927/6927 [==============================] - 8s 1ms/step - loss: 0.1452 - accuracy: 0.9460\n",
      "Epoch 33/50\n",
      "6927/6927 [==============================] - 10s 1ms/step - loss: 0.1377 - accuracy: 0.9488\n",
      "Epoch 34/50\n",
      "6927/6927 [==============================] - 10s 1ms/step - loss: 0.1409 - accuracy: 0.9477\n",
      "Epoch 35/50\n",
      "6927/6927 [==============================] - 11s 2ms/step - loss: 0.1420 - accuracy: 0.9466\n",
      "Epoch 36/50\n",
      "6927/6927 [==============================] - 9s 1ms/step - loss: 0.1349 - accuracy: 0.9481\n",
      "Epoch 37/50\n",
      "6927/6927 [==============================] - 10s 1ms/step - loss: 0.1331 - accuracy: 0.9481\n",
      "Epoch 38/50\n",
      "6927/6927 [==============================] - 13s 2ms/step - loss: 0.1330 - accuracy: 0.9477\n",
      "Epoch 39/50\n",
      "6927/6927 [==============================] - 14s 2ms/step - loss: 0.1307 - accuracy: 0.9492\n",
      "Epoch 40/50\n",
      "6927/6927 [==============================] - 14s 2ms/step - loss: 0.1309 - accuracy: 0.9491\n",
      "Epoch 41/50\n",
      "6927/6927 [==============================] - 11s 2ms/step - loss: 0.1318 - accuracy: 0.9486\n",
      "Epoch 42/50\n",
      "6927/6927 [==============================] - 9s 1ms/step - loss: 0.1282 - accuracy: 0.9488\n",
      "Epoch 43/50\n",
      "6927/6927 [==============================] - 9s 1ms/step - loss: 0.1271 - accuracy: 0.9486\n",
      "Epoch 44/50\n",
      "6927/6927 [==============================] - 9s 1ms/step - loss: 0.1266 - accuracy: 0.9482\n",
      "Epoch 45/50\n",
      "6927/6927 [==============================] - 9s 1ms/step - loss: 0.1225 - accuracy: 0.9518\n",
      "Epoch 46/50\n",
      "6927/6927 [==============================] - 9s 1ms/step - loss: 0.1268 - accuracy: 0.9491\n",
      "Epoch 47/50\n",
      "6927/6927 [==============================] - 9s 1ms/step - loss: 0.1251 - accuracy: 0.9499\n",
      "Epoch 48/50\n",
      "6927/6927 [==============================] - 9s 1ms/step - loss: 0.1254 - accuracy: 0.9491\n",
      "Epoch 49/50\n",
      "6927/6927 [==============================] - 9s 1ms/step - loss: 0.1246 - accuracy: 0.9506\n",
      "Epoch 50/50\n",
      "6927/6927 [==============================] - 9s 1ms/step - loss: 0.1244 - accuracy: 0.9495\n"
     ]
    },
    {
     "data": {
      "text/plain": [
       "<keras.callbacks.History at 0x1666e8510>"
      ]
     },
     "execution_count": 81,
     "metadata": {},
     "output_type": "execute_result"
    }
   ],
   "source": [
    "model2.fit(x_trainm, y_trainm, epochs=50, batch_size=10)"
   ]
  },
  {
   "cell_type": "markdown",
   "id": "0f1b6e6f-628a-4690-a1c3-51cdaae583bf",
   "metadata": {},
   "source": [
    "Como podemos ver viendo los facotres de macro game logramos obtener un costo de 0.1244 lo cual es muy cercano a 0 y un accuaracy en el test set de 0.9495"
   ]
  },
  {
   "cell_type": "code",
   "execution_count": 82,
   "id": "1084dc9e-0e36-41be-9833-02d772edb198",
   "metadata": {
    "tags": []
   },
   "outputs": [],
   "source": [
    "predictions_macrowins = model2.predict_classes(x_testm)"
   ]
  },
  {
   "cell_type": "code",
   "execution_count": 83,
   "id": "4f7655f6-b250-4328-8524-29117e871ccd",
   "metadata": {},
   "outputs": [],
   "source": [
    "predictions_macro = DataFrame(predictions_macrowins)\n",
    "y_test_frame_m = DataFrame(y_testm)"
   ]
  },
  {
   "cell_type": "code",
   "execution_count": 84,
   "id": "a663aca1-1f9e-440a-8dab-e78f102b9c54",
   "metadata": {},
   "outputs": [],
   "source": [
    "predictions_macro_renamed = predictions_macro.rename(columns = {0: 'blueWins'}, inplace = False)"
   ]
  },
  {
   "cell_type": "code",
   "execution_count": 85,
   "id": "205e44b8-24c7-497d-8e49-94816fae9b14",
   "metadata": {},
   "outputs": [
    {
     "data": {
      "text/plain": [
       "1    14975\n",
       "0    14710\n",
       "Name: blueWins, dtype: int64"
      ]
     },
     "execution_count": 85,
     "metadata": {},
     "output_type": "execute_result"
    }
   ],
   "source": [
    "predictions_macro_renamed.blueWins.value_counts()"
   ]
  },
  {
   "cell_type": "code",
   "execution_count": 86,
   "id": "42c18e90-0ae9-4e98-bfbe-3896af1a3533",
   "metadata": {},
   "outputs": [
    {
     "data": {
      "text/plain": [
       "0    14990\n",
       "1    14695\n",
       "Name: blueWins, dtype: int64"
      ]
     },
     "execution_count": 86,
     "metadata": {},
     "output_type": "execute_result"
    }
   ],
   "source": [
    "y_test_frame_m.blueWins.value_counts()"
   ]
  },
  {
   "cell_type": "code",
   "execution_count": 87,
   "id": "97caa638-d7d2-4462-92cc-a337c1ba30a9",
   "metadata": {},
   "outputs": [
    {
     "data": {
      "text/plain": [
       "0.9492673"
      ]
     },
     "execution_count": 87,
     "metadata": {},
     "output_type": "execute_result"
    }
   ],
   "source": [
    "acuaracy_macro = tf.keras.metrics.Accuracy()\n",
    "acuaracy_macro.update_state(y_testm, predictions_macrowins)\n",
    "acuaracy_macro.result().numpy()"
   ]
  },
  {
   "cell_type": "markdown",
   "id": "ce7638dc-35a1-4e1e-8867-b854a7e0b3cd",
   "metadata": {},
   "source": [
    "Como podemos ver con el test de prueba tambien notamos un accuaracy del 0.9492 porciento, lo cual es bastante bueno y logra crear un buen modelo"
   ]
  },
  {
   "cell_type": "markdown",
   "id": "2b6628f4-db72-4b13-ad21-9c580457173b",
   "metadata": {},
   "source": [
    "# Conclusiones"
   ]
  },
  {
   "cell_type": "markdown",
   "id": "e4d17034-dd5c-402f-9b84-bfd94c4ad91b",
   "metadata": {},
   "source": [
    "El objetivo de realizar este proyecto era comprobar la importancia de los factores Macro como Micro grame del juego. Como podemos resumir en dos puntos\n",
    "* Accuracy score for micro test: 94.62%\n",
    "* Accuracy score for macro test: 94.92%\n",
    "\n",
    "Por lo cual numericamente podriamos decir que los factores macro son más importantes que los factores micro a la hora de condicionar una partida. Sin embargo, no existe una diferencía considerable entre los accuracy scores de los modelos. Por lo tanto podriamso concluir que son igual de importantes y que un jugador promedio de League of Legends deberia tener buen conocieminto de los dos factores del juego para condicionar partidas como los mejores jugadores del mundo"
   ]
  },
  {
   "attachments": {
    "21d5295b-19fc-422c-bc0f-657905874336.jpg": {
     "image/jpeg": "[encoded data removed]"
    }
   },
   "cell_type": "markdown",
   "id": "da261d17-df8c-4154-bb82-546d2890c51a",
   "metadata": {},
   "source": [
    "![lol.jpg](attachment:21d5295b-19fc-422c-bc0f-657905874336.jpg)"
   ]
  },
  {
   "cell_type": "code",
   "execution_count": null,
   "id": "9c695612-4c3c-4d18-bb26-128d179d49f4",
   "metadata": {},
   "outputs": [],
   "source": []
  }
 ],
 "metadata": {
  "kernelspec": {
   "display_name": "Python 3",
   "language": "python",
   "name": "python3"
  },
  "language_info": {
   "codemirror_mode": {
    "name": "ipython",
    "version": 3
   },
   "file_extension": ".py",
   "mimetype": "text/x-python",
   "name": "python",
   "nbconvert_exporter": "python",
   "pygments_lexer": "ipython3",
   "version": "3.7.4"
  }
 },
 "nbformat": 4,
 "nbformat_minor": 5
}
